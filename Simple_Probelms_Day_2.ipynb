{
 "cells": [
  {
   "cell_type": "markdown",
   "id": "564158aa-09c7-4ae6-909d-f9b613a820cb",
   "metadata": {},
   "source": [
    "### Problem 13"
   ]
  },
  {
   "cell_type": "markdown",
   "id": "babf14cd-1bb1-42a0-9834-1e44777db8d8",
   "metadata": {},
   "source": [
    "Write a program to check if user entered password is alpha numeric"
   ]
  },
  {
   "cell_type": "code",
   "execution_count": 20,
   "id": "3a754c37-fa9a-4202-b5f0-2dcc5c554f51",
   "metadata": {},
   "outputs": [
    {
     "name": "stdout",
     "output_type": "stream",
     "text": [
      "This program checks if user entered password is alpha numeric\n",
      "\n"
     ]
    },
    {
     "name": "stdin",
     "output_type": "stream",
     "text": [
      "Length of your password:  3\n",
      "Enter an alpha-numeric password:  123\n"
     ]
    },
    {
     "name": "stdout",
     "output_type": "stream",
     "text": [
      "3\n",
      "3\n",
      "True\n",
      "Congratulations! you have successfully updated your password.\n"
     ]
    }
   ],
   "source": [
    "print(\"This program checks if user entered password is alpha numeric\")\n",
    "print()\n",
    "n = int(input(\"Length of your password: \"))\n",
    "pwd = input(\"Enter an alpha-numeric password: \")\n",
    "length = len(pwd)\n",
    "print(length)\n",
    "print(n)\n",
    "diff = abs(length-n)\n",
    "if diff==0:\n",
    "    x = pwd.isalnum()\n",
    "    print(x)                                         \n",
    "    if (x==True):\n",
    "        print(\"Congratulations! you have successfully updated your password.\")\n",
    "    else:\n",
    "        print(\"Error! Please try again\")        \n",
    "else:\n",
    "    print(\"Password length incorrect. Try again!\")"
   ]
  },
  {
   "cell_type": "markdown",
   "id": "39ec95d9-f5ea-4b31-99eb-87e989366332",
   "metadata": {},
   "source": [
    "Assignment"
   ]
  },
  {
   "cell_type": "markdown",
   "id": "c8223532-a552-47b8-80a2-90713c3f9cef",
   "metadata": {},
   "source": [
    "Write a program to check if user entered password is alpha-numberic and also ensure it does not exceed 8 characters in length"
   ]
  },
  {
   "cell_type": "code",
   "execution_count": 13,
   "id": "f2f19170-0159-43dd-b0e7-9293f0cb0927",
   "metadata": {},
   "outputs": [
    {
     "name": "stdout",
     "output_type": "stream",
     "text": [
      "This program checks if user entered password is alpha numeric not greater than 8 characters\n",
      "\n"
     ]
    },
    {
     "name": "stdin",
     "output_type": "stream",
     "text": [
      "Enter an alpha-numeric password:  gdmgkdmdflgk\n"
     ]
    },
    {
     "name": "stdout",
     "output_type": "stream",
     "text": [
      "Password length incorrect. Try again!\n"
     ]
    }
   ],
   "source": [
    "print(\"This program checks if user entered password is alpha numeric not greater than 8 characters\")\n",
    "print()\n",
    "pwd = input(\"Enter an alpha-numeric password: \")\n",
    "length = len(pwd)\n",
    "if length>8:\n",
    "    print(\"Password length incorrect. Try again!\")\n",
    "else:\n",
    "    print(length)\n",
    "    print(n)\n",
    "    diff = abs(length-n)\n",
    "    if diff==0:\n",
    "        x = pwd.isalnum()\n",
    "        print(x)                                         \n",
    "        if (x==True):\n",
    "            print(\"Congratulations! you have successfully updated your password.\")\n",
    "        else:\n",
    "            print(\"Error! Please try again\")        \n",
    "    else:\n",
    "        print(\"Password length incorrect. Try again!\")"
   ]
  },
  {
   "cell_type": "markdown",
   "id": "347ec150-52b1-404a-b258-037d0cedf1f6",
   "metadata": {},
   "source": [
    "### Problem 14"
   ]
  },
  {
   "cell_type": "markdown",
   "id": "978c1053-2af9-4769-acb9-dad621391f7b",
   "metadata": {},
   "source": [
    "Write a program to get a list of 6 numbers and find the total of those numbers"
   ]
  },
  {
   "cell_type": "code",
   "execution_count": 23,
   "id": "ad2a8d99-ec40-4819-b49d-6bd6515af79c",
   "metadata": {},
   "outputs": [
    {
     "name": "stdout",
     "output_type": "stream",
     "text": [
      "This program gets 6 numbers from user and returns the total\n",
      "Enter number 1: \n"
     ]
    },
    {
     "name": "stdin",
     "output_type": "stream",
     "text": [
      " 1\n"
     ]
    },
    {
     "name": "stdout",
     "output_type": "stream",
     "text": [
      "Enter number 2: \n"
     ]
    },
    {
     "name": "stdin",
     "output_type": "stream",
     "text": [
      " 2\n"
     ]
    },
    {
     "name": "stdout",
     "output_type": "stream",
     "text": [
      "Enter number 3: \n"
     ]
    },
    {
     "name": "stdin",
     "output_type": "stream",
     "text": [
      " 3\n"
     ]
    },
    {
     "name": "stdout",
     "output_type": "stream",
     "text": [
      "Enter number 4: \n"
     ]
    },
    {
     "name": "stdin",
     "output_type": "stream",
     "text": [
      " 4\n"
     ]
    },
    {
     "name": "stdout",
     "output_type": "stream",
     "text": [
      "Enter number 5: \n"
     ]
    },
    {
     "name": "stdin",
     "output_type": "stream",
     "text": [
      " 5\n"
     ]
    },
    {
     "name": "stdout",
     "output_type": "stream",
     "text": [
      "Enter number 6: \n"
     ]
    },
    {
     "name": "stdin",
     "output_type": "stream",
     "text": [
      " 6\n"
     ]
    },
    {
     "name": "stdout",
     "output_type": "stream",
     "text": [
      "Your list of numbers: [1, 2, 3, 4, 5, 6]\n",
      "Total of your numbers: 21\n"
     ]
    }
   ],
   "source": [
    "print(\"This program gets 6 numbers from user and returns the total\")\n",
    "num_list = []\n",
    "for i in range(6):\n",
    "    print(\"Enter number \" + str(i+1) + \": \")\n",
    "    num = int(input())\n",
    "    num_list.append(num)\n",
    "print(\"Your list of numbers: \" + str(num_list))\n",
    "sum = 0\n",
    "for i in (num_list):\n",
    "    sum = sum + i\n",
    "print(\"Total of your numbers: \" + str(sum))    "
   ]
  },
  {
   "cell_type": "markdown",
   "id": "3573a23e-6e30-4746-8f7e-5e86052246a4",
   "metadata": {},
   "source": [
    "Assignment"
   ]
  },
  {
   "cell_type": "markdown",
   "id": "5e79f516-1ddb-4761-96af-6e88750076f2",
   "metadata": {
    "tags": []
   },
   "source": [
    "Write a program to get 6 numbers in a tuple and display the total"
   ]
  },
  {
   "cell_type": "code",
   "execution_count": 27,
   "id": "b467fc7f-b94d-498d-93b9-87e50dc52a3c",
   "metadata": {},
   "outputs": [
    {
     "name": "stdout",
     "output_type": "stream",
     "text": [
      "This program gets 6 numbers from user, saves in a tuple and returns the total\n",
      "Enter number 1: \n"
     ]
    },
    {
     "name": "stdin",
     "output_type": "stream",
     "text": [
      " 1\n"
     ]
    },
    {
     "name": "stdout",
     "output_type": "stream",
     "text": [
      "Enter number 2: \n"
     ]
    },
    {
     "name": "stdin",
     "output_type": "stream",
     "text": [
      " 2\n"
     ]
    },
    {
     "name": "stdout",
     "output_type": "stream",
     "text": [
      "Enter number 3: \n"
     ]
    },
    {
     "name": "stdin",
     "output_type": "stream",
     "text": [
      " 3\n"
     ]
    },
    {
     "name": "stdout",
     "output_type": "stream",
     "text": [
      "Enter number 4: \n"
     ]
    },
    {
     "name": "stdin",
     "output_type": "stream",
     "text": [
      " 4\n"
     ]
    },
    {
     "name": "stdout",
     "output_type": "stream",
     "text": [
      "Enter number 5: \n"
     ]
    },
    {
     "name": "stdin",
     "output_type": "stream",
     "text": [
      " 5\n"
     ]
    },
    {
     "name": "stdout",
     "output_type": "stream",
     "text": [
      "Enter number 6: \n"
     ]
    },
    {
     "name": "stdin",
     "output_type": "stream",
     "text": [
      " 6\n"
     ]
    },
    {
     "name": "stdout",
     "output_type": "stream",
     "text": [
      "Your list of numbers: (1, 2, 3, 4, 5, 6)\n",
      "Total of your numbers: 21\n"
     ]
    }
   ],
   "source": [
    "print(\"This program gets 6 numbers from user, saves in a tuple and returns the total\")\n",
    "num_list = []\n",
    "for i in range(6):\n",
    "    print(\"Enter number \" + str(i+1) + \": \")\n",
    "    num = int(input())\n",
    "    num_list.append(num)\n",
    "tup_list = tuple(num_list)\n",
    "print(\"Your tuple of numbers: \" + str(tup_list))\n",
    "sum = 0\n",
    "for i in (tup_list):\n",
    "    sum = sum + i\n",
    "print(\"Total of your numbers: \" + str(sum)) "
   ]
  },
  {
   "cell_type": "markdown",
   "id": "9f6ce324-b1a8-47eb-b71e-aa3b8d935c52",
   "metadata": {},
   "source": [
    "### Problem 15"
   ]
  },
  {
   "cell_type": "markdown",
   "id": "c2794226-6749-4831-89a7-68bcfd28c13a",
   "metadata": {},
   "source": [
    "Write a program to get 6 numbers from user in a list, display the list, clear the numbers and display the list again"
   ]
  },
  {
   "cell_type": "code",
   "execution_count": 28,
   "id": "f2dbffe2-49da-44fe-b4d9-0ab05fffdedb",
   "metadata": {},
   "outputs": [
    {
     "name": "stdout",
     "output_type": "stream",
     "text": [
      "This program is to get 6 numbers from user in a list, display the list, clear the numbers and display the list again\n",
      "Enter number 1: \n"
     ]
    },
    {
     "name": "stdin",
     "output_type": "stream",
     "text": [
      " 1\n"
     ]
    },
    {
     "name": "stdout",
     "output_type": "stream",
     "text": [
      "Enter number 2: \n"
     ]
    },
    {
     "name": "stdin",
     "output_type": "stream",
     "text": [
      " 2\n"
     ]
    },
    {
     "name": "stdout",
     "output_type": "stream",
     "text": [
      "Enter number 3: \n"
     ]
    },
    {
     "name": "stdin",
     "output_type": "stream",
     "text": [
      " 3\n"
     ]
    },
    {
     "name": "stdout",
     "output_type": "stream",
     "text": [
      "Enter number 4: \n"
     ]
    },
    {
     "name": "stdin",
     "output_type": "stream",
     "text": [
      " 4\n"
     ]
    },
    {
     "name": "stdout",
     "output_type": "stream",
     "text": [
      "Enter number 5: \n"
     ]
    },
    {
     "name": "stdin",
     "output_type": "stream",
     "text": [
      " 5\n"
     ]
    },
    {
     "name": "stdout",
     "output_type": "stream",
     "text": [
      "Enter number 6: \n"
     ]
    },
    {
     "name": "stdin",
     "output_type": "stream",
     "text": [
      " 6\n"
     ]
    },
    {
     "name": "stdout",
     "output_type": "stream",
     "text": [
      "Your list of numbers: [1, 2, 3, 4, 5, 6]\n",
      "Your list after clearing the elements: []\n"
     ]
    }
   ],
   "source": [
    "print(\"This program is to get 6 numbers from user in a list, display the list, clear the numbers and display the list again\")\n",
    "num_list = []\n",
    "for i in range(6):\n",
    "    print(\"Enter number \" + str(i+1) + \": \")\n",
    "    num = int(input())\n",
    "    num_list.append(num)\n",
    "print(\"Your list of numbers: \" + str(num_list))\n",
    "num_list.clear()\n",
    "print(\"Your list after clearing the elements: \" + str(num_list))"
   ]
  },
  {
   "cell_type": "markdown",
   "id": "171fc090-9e15-4b07-8ba5-a6af9cee63c5",
   "metadata": {},
   "source": [
    "Assignment"
   ]
  },
  {
   "cell_type": "markdown",
   "id": "1dc7a449-693d-4d66-9c7d-3c1de92ce368",
   "metadata": {},
   "source": [
    "Write a program to get 6 numbers from user in a tuple, display the tuple, clear the numbers and display the tuple again"
   ]
  },
  {
   "cell_type": "code",
   "execution_count": 30,
   "id": "7051a823-6bb4-4ca3-b84f-d38c0906253f",
   "metadata": {},
   "outputs": [
    {
     "name": "stdout",
     "output_type": "stream",
     "text": [
      "This program is to get 6 numbers from user in a tuple, display the tuple, clear the numbers and display the tuple again\n",
      "Enter number 1: \n"
     ]
    },
    {
     "name": "stdin",
     "output_type": "stream",
     "text": [
      " 1\n"
     ]
    },
    {
     "name": "stdout",
     "output_type": "stream",
     "text": [
      "Enter number 2: \n"
     ]
    },
    {
     "name": "stdin",
     "output_type": "stream",
     "text": [
      " 2\n"
     ]
    },
    {
     "name": "stdout",
     "output_type": "stream",
     "text": [
      "Enter number 3: \n"
     ]
    },
    {
     "name": "stdin",
     "output_type": "stream",
     "text": [
      " 3\n"
     ]
    },
    {
     "name": "stdout",
     "output_type": "stream",
     "text": [
      "Enter number 4: \n"
     ]
    },
    {
     "name": "stdin",
     "output_type": "stream",
     "text": [
      " 4\n"
     ]
    },
    {
     "name": "stdout",
     "output_type": "stream",
     "text": [
      "Enter number 5: \n"
     ]
    },
    {
     "name": "stdin",
     "output_type": "stream",
     "text": [
      " 5\n"
     ]
    },
    {
     "name": "stdout",
     "output_type": "stream",
     "text": [
      "Enter number 6: \n"
     ]
    },
    {
     "name": "stdin",
     "output_type": "stream",
     "text": [
      " 6\n"
     ]
    },
    {
     "name": "stdout",
     "output_type": "stream",
     "text": [
      "Your tuple of numbers: (1, 2, 3, 4, 5, 6)\n",
      "Your tuple after clearing the elements: ()\n"
     ]
    }
   ],
   "source": [
    "print(\"This program is to get 6 numbers from user in a tuple, display the tuple, clear the numbers and display the tuple again\")\n",
    "num_list = []\n",
    "for i in range(6):\n",
    "    print(\"Enter number \" + str(i+1) + \": \")\n",
    "    num = int(input())\n",
    "    num_list.append(num)\n",
    "tup_list = tuple(num_list)\n",
    "print(\"Your tuple of numbers: \" + str(tup_list))\n",
    "num_list.clear()\n",
    "tup_list = tuple(num_list)\n",
    "print(\"Your tuple after clearing the elements: \" + str(tup_list))"
   ]
  },
  {
   "cell_type": "markdown",
   "id": "0130acbe-f085-4c6d-943b-a398225af786",
   "metadata": {},
   "source": [
    "### Problem 17"
   ]
  },
  {
   "cell_type": "markdown",
   "id": "8d41b6a6-b6a6-4de0-a117-ae97d536b8b2",
   "metadata": {},
   "source": [
    "Write a program to display letters of the alphabet in the pattern (specified)"
   ]
  },
  {
   "cell_type": "code",
   "execution_count": 34,
   "id": "f93f0957-d336-4475-ab3a-d6e5a9e306b6",
   "metadata": {},
   "outputs": [
    {
     "name": "stdout",
     "output_type": "stream",
     "text": [
      "This program displays the letters of the alphabet in the specified pattern\n",
      "A\n",
      "B\tC\n",
      "D\tE\tF\n",
      "G\tH\tI\tJ\n",
      "K\tL\tM\n",
      "N\tO\n",
      "P\n"
     ]
    }
   ],
   "source": [
    "print(\"This program displays the letters of the alphabet in the specified pattern\")\n",
    "print(\"A\")\n",
    "print(\"B\\tC\")\n",
    "print(\"D\\tE\\tF\")\n",
    "print(\"G\\tH\\tI\\tJ\")\n",
    "print(\"K\\tL\\tM\")\n",
    "print(\"N\\tO\")\n",
    "print(\"P\")"
   ]
  },
  {
   "cell_type": "markdown",
   "id": "e3ea6c6f-fdcb-4202-a54e-48ccb1b6aeb2",
   "metadata": {},
   "source": [
    "Assignment"
   ]
  },
  {
   "cell_type": "markdown",
   "id": "9030d17a-779d-4dd0-8b82-f27f4e169c5c",
   "metadata": {},
   "source": [
    "Write a program to display the letters of the alphabet in a specified pattern"
   ]
  },
  {
   "cell_type": "code",
   "execution_count": 36,
   "id": "acea094c-531b-4ef3-8871-ac86894028f2",
   "metadata": {},
   "outputs": [
    {
     "name": "stdout",
     "output_type": "stream",
     "text": [
      "This program displays the letters of the alphabet in the specified pattern\n",
      "A\n",
      "B\tC\n",
      "D\tE\tF\n",
      "G\tH\tI\tJ\n",
      "K\tL\tM\tN\n",
      "O\tP\tQ\tR\tS\n",
      "T\tU\tV\t\\W\tX\tY\n"
     ]
    }
   ],
   "source": [
    "print(\"This program displays the letters of the alphabet in the specified pattern\")\n",
    "print(\"A\")\n",
    "print(\"B\\tC\")\n",
    "print(\"D\\tE\\tF\")\n",
    "print(\"G\\tH\\tI\\tJ\")\n",
    "print(\"K\\tL\\tM\\tN\")\n",
    "print(\"O\\tP\\tQ\\tR\\tS\")\n",
    "print(\"T\\tU\\tV\\t\\W\\tX\\tY\")"
   ]
  },
  {
   "cell_type": "markdown",
   "id": "dd661d85-39fb-41f1-9280-9f0b2e9bd064",
   "metadata": {},
   "source": [
    "### Problem 18"
   ]
  },
  {
   "cell_type": "markdown",
   "id": "72a34229-571f-478a-acfa-95846521c030",
   "metadata": {},
   "source": [
    "Write a program to update name, address and contact number in a dictionary and then edit the contact number"
   ]
  },
  {
   "cell_type": "code",
   "execution_count": 46,
   "id": "fd59cdfb-c828-4661-bcaf-750ace483833",
   "metadata": {},
   "outputs": [
    {
     "name": "stdout",
     "output_type": "stream",
     "text": [
      "This program accepts user input to get the name, address and contact number; saves in a dictionary and edits contact number\n"
     ]
    },
    {
     "name": "stdin",
     "output_type": "stream",
     "text": [
      "Enter your name:  ggg\n",
      "Enter your affress:  hhhhhhh ghgjghj\n",
      "Enter your contact number:  123\n"
     ]
    },
    {
     "name": "stdout",
     "output_type": "stream",
     "text": [
      "Your details are: {'name': 'ggg', 'address': 'hhhhhhh ghgjghj', 'contact_number': '123'}\n"
     ]
    },
    {
     "name": "stdin",
     "output_type": "stream",
     "text": [
      "Enter your updated contact number:  235\n"
     ]
    },
    {
     "name": "stdout",
     "output_type": "stream",
     "text": [
      "Your updated details are: {'name': 'ggg', 'address': 'hhhhhhh ghgjghj', 'contact_number': '235'}\n"
     ]
    }
   ],
   "source": [
    "print(\"This program accepts user input to get the name, address and contact number; saves in a dictionary and edits contact number\")\n",
    "user_name = input(\"Enter your name: \")\n",
    "user_address = input(\"Enter your affress: \")\n",
    "user_contact_number = input(\"Enter your contact number: \")\n",
    "new_dict = {\n",
    "    \"name\": user_name,\n",
    "    \"address\": user_address,\n",
    "    \"contact_number\": user_contact_number\n",
    "}\n",
    "print(\"Your details are: \" + str(new_dict))\n",
    "new_user_contact_number = input(\"Enter your updated contact number: \")\n",
    "if(user_contact_number==new_user_contact_number):\n",
    "    print(\"This is similar to your existing contact number. Please check and try again!\")\n",
    "else:\n",
    "    new_dict.update({\"contact_number\": new_user_contact_number})\n",
    "    print(\"Your updated details are: \" + str(new_dict))"
   ]
  },
  {
   "cell_type": "markdown",
   "id": "a8b7187c-b780-4f41-bb26-cfb066d45c48",
   "metadata": {},
   "source": [
    "### Problem 19"
   ]
  },
  {
   "cell_type": "markdown",
   "id": "1680c229-0af8-4b09-a874-a509de6437ca",
   "metadata": {},
   "source": [
    "Write a program to get 3 numbers from user and display in equation ((a+b+ca)/(b(2a+3b))"
   ]
  },
  {
   "cell_type": "code",
   "execution_count": 58,
   "id": "26f7dd55-129d-4886-87ad-9f0ca31d7857",
   "metadata": {},
   "outputs": [
    {
     "name": "stdout",
     "output_type": "stream",
     "text": [
      "This program is to get 3 numbers from user and display in equation ((a+b+ca)/(b(2a+3b))\n"
     ]
    },
    {
     "name": "stdin",
     "output_type": "stream",
     "text": [
      "Enter first number:  1\n",
      "Enter second number:  2\n",
      "Enter third number:  3\n"
     ]
    },
    {
     "name": "stdout",
     "output_type": "stream",
     "text": [
      "Equation: ((1+2+(3*1)/(2(*2*1+3*2))\n",
      "Result: 0.375\n"
     ]
    }
   ],
   "source": [
    "print(\"This program is to get 3 numbers from user and display in equation ((a+b+ca)/(b(2a+3b))\")\n",
    "a = int(input(\"Enter first number: \"))\n",
    "b = int(input(\"Enter second number: \"))\n",
    "c = int(input(\"Enter third number: \"))\n",
    "print(\"Equation: ((\" + str(a) + \"+\" + str(b) + \"+(\" + str(c) + \"*\" +str(a) + \")/(\" + str(b) + \"(*2*\" +str(a) + \"+3*\" + str(b) + \"))\")\n",
    "res = (a+b+(c*a))/(b*((2*a)+(3*b)))\n",
    "print(\"Result: \" + str(res))  "
   ]
  },
  {
   "cell_type": "markdown",
   "id": "27973065-c9a3-49ed-b970-9d042ec80e78",
   "metadata": {},
   "source": [
    "Assignment"
   ]
  },
  {
   "cell_type": "markdown",
   "id": "6b17ca51-97d0-4986-b638-ea1186013e27",
   "metadata": {},
   "source": [
    "Write a program to get 4 numbers from user and display in equation (d+a+(2*a*b))/(d((4*c)+10))"
   ]
  },
  {
   "cell_type": "code",
   "execution_count": 65,
   "id": "f432d2cf-a98e-4317-8cbf-ff3097f7e2fa",
   "metadata": {},
   "outputs": [
    {
     "name": "stdout",
     "output_type": "stream",
     "text": [
      "This program is to get 3 numbers from user and display in equation (d+a+(2*a*b))/(d((4*c)+10))\n"
     ]
    },
    {
     "name": "stdin",
     "output_type": "stream",
     "text": [
      "Enter first number:  1\n",
      "Enter second number:  2\n",
      "Enter third number:  3\n",
      "Enter fourth number:  4\n"
     ]
    },
    {
     "name": "stdout",
     "output_type": "stream",
     "text": [
      "Equation: ((4+1+(2*1*2))/(4*((4*3)+10))\n",
      "Result: 0.10227272727272728\n"
     ]
    }
   ],
   "source": [
    "print(\"This program is to get 3 numbers from user and display in equation (d+a+(2*a*b))/(d((4*c)+10))\")\n",
    "a = int(input(\"Enter first number: \"))\n",
    "b = int(input(\"Enter second number: \"))\n",
    "c = int(input(\"Enter third number: \"))\n",
    "d = int(input(\"Enter fourth number: \"))\n",
    "print(\"Equation: ((\" + str(d) + \"+\" + str(a) + \"+(2*\" + str(a) + \"*\" + str(b) + \"))/(\" + str(d) + \"*((4*\" + str(c) + \")+\" + str(10) + \"))\")\n",
    "res = (d+a+(2*a*b))/(d*((4*c)+10))\n",
    "print(\"Result: \" + str(res)) "
   ]
  },
  {
   "cell_type": "markdown",
   "id": "cb17c44e-b5f2-4dbb-b186-a59059ac89b3",
   "metadata": {},
   "source": [
    "### Problem 20"
   ]
  },
  {
   "cell_type": "markdown",
   "id": "51231de1-c141-42f0-9a9b-4d7e8eca9caa",
   "metadata": {},
   "source": [
    "Write a program to get 5 user entered numbers into an array and display them"
   ]
  },
  {
   "cell_type": "code",
   "execution_count": 72,
   "id": "8ddf8aa6-e362-4e96-87b6-7c21ed7dfc24",
   "metadata": {},
   "outputs": [
    {
     "name": "stdout",
     "output_type": "stream",
     "text": [
      "This program is to get 5 numbers from user, read them in an array and display them\n",
      "Enter number: 1: \n"
     ]
    },
    {
     "name": "stdin",
     "output_type": "stream",
     "text": [
      " 1\n"
     ]
    },
    {
     "name": "stdout",
     "output_type": "stream",
     "text": [
      "Enter number: 2: \n"
     ]
    },
    {
     "name": "stdin",
     "output_type": "stream",
     "text": [
      " 2\n"
     ]
    },
    {
     "name": "stdout",
     "output_type": "stream",
     "text": [
      "Enter number: 3: \n"
     ]
    },
    {
     "name": "stdin",
     "output_type": "stream",
     "text": [
      " 3\n"
     ]
    },
    {
     "name": "stdout",
     "output_type": "stream",
     "text": [
      "Enter number: 4: \n"
     ]
    },
    {
     "name": "stdin",
     "output_type": "stream",
     "text": [
      " 4\n"
     ]
    },
    {
     "name": "stdout",
     "output_type": "stream",
     "text": [
      "Enter number: 5: \n"
     ]
    },
    {
     "name": "stdin",
     "output_type": "stream",
     "text": [
      " 5\n"
     ]
    },
    {
     "name": "stdout",
     "output_type": "stream",
     "text": [
      "Your array: array('i', [1, 2, 3, 4, 5])\n",
      "1\n",
      "2\n",
      "3\n",
      "4\n",
      "5\n",
      "Sum of all the numbers: 15\n"
     ]
    }
   ],
   "source": [
    "print(\"This program is to get 5 numbers from user, read them in an array and display them\")\n",
    "import array as arr\n",
    "new_arr = arr.array('i', [])\n",
    "for i in range(5):\n",
    "    print(\"Enter number: \" + str(i+1) + \": \")\n",
    "    n = int(input())\n",
    "    new_arr.append(n)\n",
    "print(\"Your array: \" + str(new_arr))\n",
    "sum = 0\n",
    "for j in range(5):\n",
    "    print(new_arr[j])\n",
    "    sum += new_arr[j]\n",
    "print(\"Sum of all the numbers: \" + str(sum))"
   ]
  },
  {
   "cell_type": "markdown",
   "id": "dbd4420a-79b8-4e4b-ab62-ae9ce7a6b0a7",
   "metadata": {},
   "source": [
    "Assignment"
   ]
  },
  {
   "cell_type": "markdown",
   "id": "c300989a-0698-4394-b8d7-365a8ca9fdbb",
   "metadata": {},
   "source": [
    "Write a program to get 5 numbers from user in an array and display the largest number"
   ]
  },
  {
   "cell_type": "code",
   "execution_count": 75,
   "id": "308654c9-d843-49ce-a094-68bd0275b6b5",
   "metadata": {},
   "outputs": [
    {
     "name": "stdout",
     "output_type": "stream",
     "text": [
      "This program is to get 5 numbers from user, read them in an array and display the largest number\n",
      "Enter number: 1: \n"
     ]
    },
    {
     "name": "stdin",
     "output_type": "stream",
     "text": [
      " 25\n"
     ]
    },
    {
     "name": "stdout",
     "output_type": "stream",
     "text": [
      "Enter number: 2: \n"
     ]
    },
    {
     "name": "stdin",
     "output_type": "stream",
     "text": [
      " 2015\n"
     ]
    },
    {
     "name": "stdout",
     "output_type": "stream",
     "text": [
      "Enter number: 3: \n"
     ]
    },
    {
     "name": "stdin",
     "output_type": "stream",
     "text": [
      " 2600079\n"
     ]
    },
    {
     "name": "stdout",
     "output_type": "stream",
     "text": [
      "Enter number: 4: \n"
     ]
    },
    {
     "name": "stdin",
     "output_type": "stream",
     "text": [
      " 24\n"
     ]
    },
    {
     "name": "stdout",
     "output_type": "stream",
     "text": [
      "Enter number: 5: \n"
     ]
    },
    {
     "name": "stdin",
     "output_type": "stream",
     "text": [
      " 1\n"
     ]
    },
    {
     "name": "stdout",
     "output_type": "stream",
     "text": [
      "Your array: array('i', [25, 2015, 2600079, 24, 1])\n",
      "Largest of all the numbers: 2600079\n"
     ]
    }
   ],
   "source": [
    "print(\"This program is to get 5 numbers from user, read them in an array and display the largest number\")\n",
    "import array as arr\n",
    "new_arr = arr.array('i', [])\n",
    "for i in range(5):\n",
    "    print(\"Enter number: \"+ str(i+1) + \": \")\n",
    "    n = int(input())\n",
    "    new_arr.append(n)\n",
    "print(\"Your array: \" + str(new_arr))\n",
    "largest = new_arr[0]\n",
    "for j in range(5):\n",
    "    if (new_arr[j]>largest):\n",
    "        largest = new_arr[j]\n",
    "print(\"Largest of all the numbers: \" + str(largest))"
   ]
  },
  {
   "cell_type": "markdown",
   "id": "7f76610d-b85b-4c8e-8509-ad44894c7173",
   "metadata": {},
   "source": [
    "### Problem 21"
   ]
  },
  {
   "cell_type": "markdown",
   "id": "76e237b6-bb6d-4a1f-887c-19bd87ca437d",
   "metadata": {},
   "source": [
    "Write a program to get 5 numbers from user in an array and display the smallest number"
   ]
  },
  {
   "cell_type": "code",
   "execution_count": 77,
   "id": "1c3128fb-ccc9-42a0-ab71-95aeaf38622f",
   "metadata": {},
   "outputs": [
    {
     "name": "stdout",
     "output_type": "stream",
     "text": [
      "This program is to get 5 numbers from user, read them in an array and display the smallest number\n",
      "Enter number 1: \n"
     ]
    },
    {
     "name": "stdin",
     "output_type": "stream",
     "text": [
      " 54\n"
     ]
    },
    {
     "name": "stdout",
     "output_type": "stream",
     "text": [
      "Enter number 2: \n"
     ]
    },
    {
     "name": "stdin",
     "output_type": "stream",
     "text": [
      " 658\n"
     ]
    },
    {
     "name": "stdout",
     "output_type": "stream",
     "text": [
      "Enter number 3: \n"
     ]
    },
    {
     "name": "stdin",
     "output_type": "stream",
     "text": [
      " 253202\n"
     ]
    },
    {
     "name": "stdout",
     "output_type": "stream",
     "text": [
      "Enter number 4: \n"
     ]
    },
    {
     "name": "stdin",
     "output_type": "stream",
     "text": [
      " 1\n"
     ]
    },
    {
     "name": "stdout",
     "output_type": "stream",
     "text": [
      "Enter number 5: \n"
     ]
    },
    {
     "name": "stdin",
     "output_type": "stream",
     "text": [
      " 325578\n"
     ]
    },
    {
     "name": "stdout",
     "output_type": "stream",
     "text": [
      "Your array: array('i', [54, 658, 253202, 1, 325578])\n",
      "THe smallest number you entered: 1\n"
     ]
    }
   ],
   "source": [
    "print(\"This program is to get 5 numbers from user, read them in an array and display the smallest number\")\n",
    "import array as arr\n",
    "my_arr = arr.array('i', [])\n",
    "for i in range(5):\n",
    "    print(\"Enter number \" + str(i+1) + \": \")\n",
    "    n = int(input())\n",
    "    my_arr.append(n)\n",
    "print(\"Your array: \" + str(my_arr))\n",
    "smallest = my_arr[0]\n",
    "for j in range(5):\n",
    "    if (my_arr[j]<smallest):\n",
    "        smallest = my_arr[j]\n",
    "print(\"THe smallest number you entered: \" + str(smallest))"
   ]
  },
  {
   "cell_type": "markdown",
   "id": "dd9152bf-5e90-4244-a579-460019447102",
   "metadata": {},
   "source": [
    "### Problem 22"
   ]
  },
  {
   "cell_type": "markdown",
   "id": "4c936e63-aec8-4fc5-a989-5ee93d4e85e4",
   "metadata": {},
   "source": [
    "Write a program to check if the character entered by the user is a vowel or a consonant"
   ]
  },
  {
   "cell_type": "code",
   "execution_count": 82,
   "id": "be1ab788-3ccb-474e-ad9e-b9f7c8706df3",
   "metadata": {},
   "outputs": [
    {
     "name": "stdout",
     "output_type": "stream",
     "text": [
      "This programs lets the user input a character and checks if it is a vowel or a consonant\n"
     ]
    },
    {
     "name": "stdin",
     "output_type": "stream",
     "text": [
      "Enter a letter you want to check:  e\n"
     ]
    },
    {
     "name": "stdout",
     "output_type": "stream",
     "text": [
      "The letter you entered is a vowel!\n"
     ]
    }
   ],
   "source": [
    "print(\"This programs lets the user input a character and checks if it is a vowel or a consonant\")\n",
    "my_letter = input(\"Enter a letter you want to check: \")\n",
    "if len(my_letter)>1:\n",
    "    print(\"Invalid choice as you entered multiple letters. Please try again!\")\n",
    "if my_letter.isalpha():\n",
    "    if (my_letter=='a') or (my_letter=='A') or (my_letter=='e') or (my_letter=='E') or (my_letter=='i') or (my_letter=='I') or (my_letter=='o') or (my_letter=='o') or (my_letter=='u') or (my_letter=='U'):\n",
    "        print(\"The letter you entered is a vowel!\")\n",
    "    else:\n",
    "        print(\"The letter you entered is a consonant\")\n",
    "else:\n",
    "    print(\"Try again. Enter only one letter of the alphabet\")"
   ]
  },
  {
   "cell_type": "markdown",
   "id": "846cc667-ae4c-4afa-b29a-35a0db0e1a5a",
   "metadata": {},
   "source": [
    "Assignment"
   ]
  },
  {
   "cell_type": "markdown",
   "id": "4a2ccf1b-3a29-48b2-9779-3f1699da72ec",
   "metadata": {},
   "source": [
    "Write a program to check if the character or a number entered by the user is a vowel or a consonant or a number"
   ]
  },
  {
   "cell_type": "code",
   "execution_count": 87,
   "id": "cb6ece05-fd61-46d3-a83f-58caea828dcc",
   "metadata": {},
   "outputs": [
    {
     "name": "stdout",
     "output_type": "stream",
     "text": [
      "This programs lets the user input a character or a number and checks if it is a vowel or a consonant or a number\n"
     ]
    },
    {
     "name": "stdin",
     "output_type": "stream",
     "text": [
      "Enter a letter or a number you want to check:  gfhfgd\n"
     ]
    },
    {
     "name": "stdout",
     "output_type": "stream",
     "text": [
      "Invalid choice as you entered multiple letters. Please try again!\n"
     ]
    }
   ],
   "source": [
    "print(\"This programs lets the user input a character or a number and checks if it is a vowel or a consonant or a number\")\n",
    "my_letter = input(\"Enter a letter or a number you want to check: \")\n",
    "if my_letter.isalpha():\n",
    "    if len(my_letter)>1:\n",
    "        print(\"Invalid choice as you entered multiple letters. Please try again!\")\n",
    "    else:\n",
    "        if (my_letter=='a') or (my_letter=='A') or (my_letter=='e') or (my_letter=='E') or (my_letter=='i') or (my_letter=='I') or (my_letter=='o') or (my_letter=='o') or (my_letter=='u') or (my_letter=='U'):\n",
    "            print(\"The letter you entered is a vowel!\")\n",
    "        else:\n",
    "            print(\"The letter you entered is a consonant\")\n",
    "elif my_letter.isdigit():\n",
    "    print(\"You have entered a number\")\n",
    "else:\n",
    "    print(\"Try again. Enter only one letter of the alphabet\")"
   ]
  },
  {
   "cell_type": "markdown",
   "id": "b531dc25-2946-4b33-b0b9-15a7adbd2426",
   "metadata": {},
   "source": [
    "### Problem 23"
   ]
  },
  {
   "cell_type": "markdown",
   "id": "df55bd5a-9074-43bc-94f3-997ec5ba3abd",
   "metadata": {},
   "source": [
    "Write a program asing user to input the any day of the week and display weekday or weeend accordingly"
   ]
  },
  {
   "cell_type": "code",
   "execution_count": 89,
   "id": "706b4850-6c18-4ea8-9443-3fc6f59c64e4",
   "metadata": {},
   "outputs": [
    {
     "name": "stdout",
     "output_type": "stream",
     "text": [
      "This program gets the user to input any day of the week and specifies if it is a weekday or a weekend\n"
     ]
    },
    {
     "name": "stdin",
     "output_type": "stream",
     "text": [
      "Enter any day of the week:  sunday\n"
     ]
    },
    {
     "name": "stdout",
     "output_type": "stream",
     "text": [
      "Invalid entry. Please try again!\n"
     ]
    }
   ],
   "source": [
    "print(\"This program gets the user to input any day of the week and specifies if it is a weekday or a weekend\")\n",
    "weekday = ['Monday', 'Tuesday', 'Wednesday', 'Thursday', 'Friday']\n",
    "weekend = ['Sunday', 'Saturday']\n",
    "my_day = input(\"Enter any day of the week: \")\n",
    "if (my_day.casefold() in weekday) or (my_day.casefold() in weekend):\n",
    "    for i in weekday():\n",
    "        if (my_day.casefold()==weekday[i].casefold()):\n",
    "            print(str(my_day) + \" is a weekday\")\n",
    "    for j in weekend():\n",
    "        if (my_day.casefold()==weekend[j].casefold()):\n",
    "            print(str(my_day) + \" is a weekend\")\n",
    "else:\n",
    "    print(\"Invalid entry. Please try again!\")"
   ]
  },
  {
   "cell_type": "markdown",
   "id": "f4990c39-dcd0-4609-b5f3-5ad76debdd86",
   "metadata": {},
   "source": [
    "### Problem 24"
   ]
  },
  {
   "cell_type": "markdown",
   "id": "54c0cc2e-948e-41f3-b5ee-8538c35bab51",
   "metadata": {},
   "source": [
    "Write a program to get two numbers and an operator and perform the operations to display the result"
   ]
  },
  {
   "cell_type": "code",
   "execution_count": 97,
   "id": "615ca447-b91b-40cd-93da-6cc159030273",
   "metadata": {},
   "outputs": [
    {
     "name": "stdout",
     "output_type": "stream",
     "text": [
      "This is a program to get two numbers and an operator and perform the operations to display the result\n"
     ]
    },
    {
     "name": "stdin",
     "output_type": "stream",
     "text": [
      "Enter the first number:  25\n",
      "Enter the second number:  25\n",
      "Enter one of the arithmetic operator ( + or - or * or /):  %\n"
     ]
    },
    {
     "name": "stdout",
     "output_type": "stream",
     "text": [
      "Invalid choice of operator. PLease try again!\n"
     ]
    }
   ],
   "source": [
    "print(\"This is a program to get two numbers and an operator and perform the operations to display the result\")\n",
    "a = float(input(\"Enter the first number: \"))\n",
    "b = float(input(\"Enter the second number: \"))\n",
    "c = input(\"Enter one of the arithmetic operator ( + or - or * or /): \")\n",
    "if c=='+':\n",
    "    print(\"You want to add your numbers.\\n Sum of your numbers: \" + str(a+b))\n",
    "elif c=='-':\n",
    "    print(\"You want to find the difference between your numbers. \\n Difference between your first number and second number: \" + str(a-b))\n",
    "elif c=='*':\n",
    "    print(\"You want to multiply your numbers. \\n Product of your numbers: \" + str(a*b))\n",
    "elif c=='/':\n",
    "    print(\"You want to divide the numbers. \\n Result of first number divided by second number: \" + str(a/b))\n",
    "else:\n",
    "    print(\"Invalid choice of operator. PLease try again!\")"
   ]
  },
  {
   "cell_type": "markdown",
   "id": "f06b958f-8ab5-41de-9821-f96546e19842",
   "metadata": {},
   "source": [
    "### Problem 25"
   ]
  },
  {
   "cell_type": "markdown",
   "id": "ec674544-ac56-4672-9c1f-f8c36f703267",
   "metadata": {},
   "source": [
    "Write a program to get user name as input and if it matches 'xyz', display a message saying 'admission denied'"
   ]
  },
  {
   "cell_type": "code",
   "execution_count": 105,
   "id": "a900e455-82ad-4c77-b795-ff5ed45ad8c2",
   "metadata": {},
   "outputs": [
    {
     "name": "stdout",
     "output_type": "stream",
     "text": [
      "This program is to get user name as input and if it matches 'xyz', display a message saying 'admission denied'\n"
     ]
    },
    {
     "name": "stdin",
     "output_type": "stream",
     "text": [
      "Enter your name:  abc\n"
     ]
    },
    {
     "name": "stdout",
     "output_type": "stream",
     "text": [
      "You can proceed to the next step\n"
     ]
    }
   ],
   "source": [
    "print(\"This program is to get user name as input and if it matches 'xyz', display a message saying 'admission denied'\")\n",
    "name = input(\"Enter your name: \")\n",
    "a = 'xyz'\n",
    "if (name.casefold() == a.casefold()):\n",
    "    print(\"Sorry, admission denied!\")\n",
    "else:\n",
    "    print(\"You can proceed to the next step\")"
   ]
  },
  {
   "cell_type": "code",
   "execution_count": null,
   "id": "1df01c28-18d0-4a59-b511-f7851af938ba",
   "metadata": {},
   "outputs": [],
   "source": []
  }
 ],
 "metadata": {
  "kernelspec": {
   "display_name": "Python 3 (ipykernel)",
   "language": "python",
   "name": "python3"
  },
  "language_info": {
   "codemirror_mode": {
    "name": "ipython",
    "version": 3
   },
   "file_extension": ".py",
   "mimetype": "text/x-python",
   "name": "python",
   "nbconvert_exporter": "python",
   "pygments_lexer": "ipython3",
   "version": "3.9.7"
  }
 },
 "nbformat": 4,
 "nbformat_minor": 5
}
