{
 "cells": [
  {
   "cell_type": "markdown",
   "id": "47a0efd5-1637-4a64-ae88-9a71a3ea5806",
   "metadata": {},
   "source": [
    "# Udemy 300+ Python Exercises"
   ]
  },
  {
   "cell_type": "markdown",
   "id": "39659efd-a897-4f23-8376-085ba8c0e35a",
   "metadata": {},
   "source": [
    "## Simple Exercises"
   ]
  },
  {
   "cell_type": "markdown",
   "id": "6e5a38ff-4282-4887-8d66-b9c4ada05f04",
   "metadata": {},
   "source": [
    "### Problem 1"
   ]
  },
  {
   "cell_type": "markdown",
   "id": "5b3bdfe9-d838-4bf1-8cfc-fb1eab0e42b2",
   "metadata": {},
   "source": [
    "Write a program to show number and their squares for numbers 1 to 5"
   ]
  },
  {
   "cell_type": "code",
   "execution_count": 39,
   "id": "6a1c680c-0191-45ad-8e08-26ad600cb767",
   "metadata": {},
   "outputs": [
    {
     "name": "stdout",
     "output_type": "stream",
     "text": [
      "This program prints the numbers 1-5 and their squares\n",
      "Number \t\t Square\n",
      "1 \t\t   1\n",
      "2 \t\t   4\n",
      "3 \t\t   9\n",
      "4 \t\t   16\n",
      "5 \t\t   25\n"
     ]
    }
   ],
   "source": [
    "# Convert integer to string after arithmetic operations \n",
    "# This ceoversion allows string concatenation in print statement\n",
    "print(\"This program prints the numbers 1-5 and their squares\")\n",
    "print(\"Number \\t\\t Square\")\n",
    "print(\"1 \\t\\t   \"+str(1*1))\n",
    "print(\"2 \\t\\t   \"+str(2*2))\n",
    "print(\"3 \\t\\t   \"+str(3*3))\n",
    "print(\"4 \\t\\t   \"+str(4*4))\n",
    "print(\"5 \\t\\t   \"+str(5*5))"
   ]
  },
  {
   "cell_type": "markdown",
   "id": "3a773ae9-8c5b-4da4-81d5-8b028336b78d",
   "metadata": {},
   "source": [
    "Assignment"
   ]
  },
  {
   "cell_type": "markdown",
   "id": "decc880d-fe8b-4e3e-bd10-490ebbf5d46e",
   "metadata": {},
   "source": [
    "Write a python program to show number, square and cube"
   ]
  },
  {
   "cell_type": "code",
   "execution_count": 21,
   "id": "336ff287-3c4a-46c8-b4f9-55ebb4456751",
   "metadata": {},
   "outputs": [
    {
     "name": "stdout",
     "output_type": "stream",
     "text": [
      "Number \t\t Square \t Cube\n",
      "1 \t\t   1\t\t  1\n",
      "2 \t\t   4\t\t  8\n",
      "3 \t\t   9\t\t  27\n",
      "4 \t\t   16\t\t  64\n",
      "5 \t\t   25\t\t  125\n"
     ]
    }
   ],
   "source": [
    "print(\"This program prints numbers 1-5, their squares and their cubes\")\n",
    "print(\"Number \\t\\t Square \\t Cube\")\n",
    "print(\"1 \\t\\t   \"+str(1*1)+\"\\t\\t  \"+str(1*1*1))\n",
    "print(\"2 \\t\\t   \"+str(2*2)+\"\\t\\t  \"+str(2*2*2))\n",
    "print(\"3 \\t\\t   \"+str(3*3)+\"\\t\\t  \"+str(3*3*3))\n",
    "print(\"4 \\t\\t   \"+str(4*4)+\"\\t\\t  \"+str(4*4*4))\n",
    "print(\"5 \\t\\t   \"+str(5*5)+\"\\t\\t  \"+str(5*5*5))"
   ]
  },
  {
   "cell_type": "markdown",
   "id": "f05d516a-7ca0-4bb2-9951-3e5ae6879611",
   "metadata": {},
   "source": [
    "### Problem 2"
   ]
  },
  {
   "cell_type": "markdown",
   "id": "0b3f8cb9-9cc3-475f-865d-b304d1caa894",
   "metadata": {},
   "source": [
    "Write a program that calculates the area of a circle using formula"
   ]
  },
  {
   "cell_type": "code",
   "execution_count": 40,
   "id": "92d4862c-96c7-4c5a-ae46-6128c52c786a",
   "metadata": {},
   "outputs": [
    {
     "name": "stdout",
     "output_type": "stream",
     "text": [
      "This program calculates the area of the circle based on your radius value\n"
     ]
    },
    {
     "name": "stdin",
     "output_type": "stream",
     "text": [
      "Enter the radius:  5\n"
     ]
    },
    {
     "name": "stdout",
     "output_type": "stream",
     "text": [
      "Area of the circle: 78.5\n"
     ]
    }
   ],
   "source": [
    "# Ask for user input\n",
    "# convert string to float to enable calculations\n",
    "# convert area value back to string to allow concatenation\n",
    "print(\"This program calculates the area of the circle based on your radius value\")\n",
    "radius = float(input(\"Enter the radius: \"))\n",
    "area_of_circle = 3.14 * radius * radius\n",
    "print(\"Area of the circle: \" + str(area_of_circle))"
   ]
  },
  {
   "cell_type": "markdown",
   "id": "5a124b82-075b-41f5-b295-49cfa9a9b0b4",
   "metadata": {},
   "source": [
    "Assignment"
   ]
  },
  {
   "cell_type": "markdown",
   "id": "5b75c484-4b69-49de-bfd5-c3789da84311",
   "metadata": {},
   "source": [
    "Write a python program to calculate the area of a rectangle"
   ]
  },
  {
   "cell_type": "code",
   "execution_count": 41,
   "id": "c2f93961-0bed-49f1-b3c0-2b93f572dd3f",
   "metadata": {},
   "outputs": [
    {
     "name": "stdout",
     "output_type": "stream",
     "text": [
      "This program calculates the area of the rectangle based on the length and breadth specified by you\n"
     ]
    },
    {
     "name": "stdin",
     "output_type": "stream",
     "text": [
      "Enter length of the rectangle:  5\n",
      "Enter breadth of the rectangle:  5\n"
     ]
    },
    {
     "name": "stdout",
     "output_type": "stream",
     "text": [
      "Area of the rectangele: 25.0\n"
     ]
    }
   ],
   "source": [
    "print(\"This program calculates the area of the rectangle based on the length and breadth specified by you\")\n",
    "length = float(input(\"Enter length of the rectangle: \"))\n",
    "breadth = float(input(\"Enter breadth of the rectangle: \"))\n",
    "area_of_rectangle = length * breadth\n",
    "print(\"Area of the rectangele: \" + str(area_of_rectangle))"
   ]
  },
  {
   "cell_type": "markdown",
   "id": "78ecd6be-248a-46c7-b8ae-6e2d17e03932",
   "metadata": {},
   "source": [
    "### Problem 3"
   ]
  },
  {
   "cell_type": "markdown",
   "id": "7e7fddd6-d362-4bb6-aabe-57ba27c7053e",
   "metadata": {},
   "source": [
    "Write a program to get name and age of the user and display as : \n",
    "Hi \"name\", you are age years old!"
   ]
  },
  {
   "cell_type": "code",
   "execution_count": 30,
   "id": "d7a9c156-15ef-4fc3-b90c-15b7fc99d08d",
   "metadata": {},
   "outputs": [
    {
     "name": "stdin",
     "output_type": "stream",
     "text": [
      "Enter your name:  xxx\n",
      "Enter your age:  15\n"
     ]
    },
    {
     "name": "stdout",
     "output_type": "stream",
     "text": [
      "Hi xxx , you are 15 years old!\n"
     ]
    }
   ],
   "source": [
    "print(\"This program accepts your name and age and displays the same details\")\n",
    "name = input(\"Enter your name: \")\n",
    "age = int(input(\"Enter your age: \"))\n",
    "print(\"Hi \" + name + \" , \" + \"you are \" + str(age) + \" years old!\")"
   ]
  },
  {
   "cell_type": "markdown",
   "id": "4c7b1433-0d74-4e2c-bf73-3a4a70c7326a",
   "metadata": {},
   "source": [
    "Assignment"
   ]
  },
  {
   "cell_type": "markdown",
   "id": "87360891-958c-4a2b-9f2f-adb7c9dd3fae",
   "metadata": {},
   "source": [
    "Write a program to ger marks and address from user and  display: \n",
    "    Your address is \"address\" and your marks is \"marks\""
   ]
  },
  {
   "cell_type": "code",
   "execution_count": 31,
   "id": "40c95b55-6a1d-4b6c-9bcd-8a16a10aeb69",
   "metadata": {},
   "outputs": [
    {
     "name": "stdin",
     "output_type": "stream",
     "text": [
      "Enter your address:  12345 ABD st\n",
      "Enter your marks:  98\n"
     ]
    },
    {
     "name": "stdout",
     "output_type": "stream",
     "text": [
      "Your address is 12345 ABD st and your marks is 98\n"
     ]
    }
   ],
   "source": [
    "print(\"This program accepts your address and marks and displays the same details\")\n",
    "address = input(\"Enter your address: \")\n",
    "marks = int(input(\"Enter your marks: \"))\n",
    "print(\"Your address is \" + address + \" and \" + \"your marks is \" + str(marks))"
   ]
  },
  {
   "cell_type": "markdown",
   "id": "67011644-3b1e-4d6a-afa0-9a6e1c2f5576",
   "metadata": {},
   "source": [
    "### Problem 4"
   ]
  },
  {
   "cell_type": "markdown",
   "id": "44aa90b8-82e6-449e-9232-9aa03c1cdca7",
   "metadata": {},
   "source": [
    "Write a program to accept name and age from user and if the user is able to participate in voting.\n",
    "If age is less than 18 display message: \"Sorry \"name\", you are not eligible for voting. You can participate after \"XX\" years\"\n",
    "If age is equal to or greater than 18 display message: \"Congratulations \"name\", you can vote!\""
   ]
  },
  {
   "cell_type": "code",
   "execution_count": 33,
   "id": "6eda2b07-7ecd-418a-bcaa-5876c265cc7d",
   "metadata": {},
   "outputs": [
    {
     "name": "stdin",
     "output_type": "stream",
     "text": [
      "Enter your name:  XX\n",
      "Enter your age:  25\n"
     ]
    },
    {
     "name": "stdout",
     "output_type": "stream",
     "text": [
      "Congratulations XX , you can vote!\n"
     ]
    }
   ],
   "source": [
    "# Use if-else statement to check condition\n",
    "# Write a print statement for each condition\n",
    "print(\"This program checks your eligibility to vote based on your age\")\n",
    "name = input(\"Enter your name: \")\n",
    "age = int(input(\"Enter your age: \"))\n",
    "if (age>=18):\n",
    "    print(\"Congratulations \" + name + \", you can vote!\")\n",
    "else:\n",
    "    print(\"Sorry \" + name + \" , you are not eligible for voting. You can participate after \" + str(18-age) + \" years\")"
   ]
  },
  {
   "cell_type": "markdown",
   "id": "938c0b51-bd8f-46c1-9bef-044a7e688d38",
   "metadata": {},
   "source": [
    "Assignment"
   ]
  },
  {
   "cell_type": "markdown",
   "id": "d2e9842f-1a15-459a-b6bd-0b225adccbb1",
   "metadata": {},
   "source": [
    "Write a progeam to accept marks from user and check if user is eligible for college admission.\n",
    "if marks less than 60 display message: \"Sorry \"name\", you are short of YY marks!\" else display message: \"Congratulations \"name\", you are eligible to apply!\""
   ]
  },
  {
   "cell_type": "code",
   "execution_count": 37,
   "id": "04ce0cd2-290a-404d-ab26-fdf7444a1f74",
   "metadata": {},
   "outputs": [
    {
     "name": "stdin",
     "output_type": "stream",
     "text": [
      "Enter your name:  XX\n",
      "Enter your marks:  45\n"
     ]
    },
    {
     "name": "stdout",
     "output_type": "stream",
     "text": [
      "Sorry XX, you are short of 15 marks. You cannot apply!\n"
     ]
    }
   ],
   "source": [
    "print(\"This program checks your eligibility to apply for college admissions based on your marks\")\n",
    "name = input(\"Enter your name: \")\n",
    "marks = int(input(\"Enter your marks: \"))\n",
    "if marks>=60:\n",
    "    print(\"Congratulations \" + name + \", you are eligible to apply!\")\n",
    "else:\n",
    "    print(\"Sorry \" + name + \", you are short of \" + str(60-marks) + \" marks. You cannot apply!\")"
   ]
  },
  {
   "cell_type": "markdown",
   "id": "3ff4379f-2826-4d7b-a0f5-d3600f2ecb1c",
   "metadata": {},
   "source": [
    "### Problem 5"
   ]
  },
  {
   "cell_type": "markdown",
   "id": "b3dfef3f-5550-461d-9b7f-0d09f473cdbe",
   "metadata": {},
   "source": [
    "Write a program to perform all arithmetic operations on two variables"
   ]
  },
  {
   "cell_type": "code",
   "execution_count": 63,
   "id": "68aa6094-ea42-46df-9c24-b686e80e669e",
   "metadata": {},
   "outputs": [
    {
     "name": "stdout",
     "output_type": "stream",
     "text": [
      "This program allows you to enter 2 numbers and performs all arithmetic operations on them\n"
     ]
    },
    {
     "name": "stdin",
     "output_type": "stream",
     "text": [
      "Enter the first number:  15\n",
      "Enter the next number:  4\n"
     ]
    },
    {
     "name": "stdout",
     "output_type": "stream",
     "text": [
      "Sum of your numbers: 19.0\n",
      "Difference between your numbers: 11.0\n",
      "Product of your numbers: 60.0\n",
      "Division of your numbers: 3.75\n",
      "Remainder after division: 3.0\n"
     ]
    }
   ],
   "source": [
    "# if-else statement in one line\n",
    "print(\"This program allows you to enter 2 numbers and performs all arithmetic operations on them\")\n",
    "a = float(input(\"Enter the first number: \"))\n",
    "b = float(input(\"Enter the next number: \"))\n",
    "print(\"Sum of your numbers: \" + str(a+b))\n",
    "print(\"Difference between your numbers: \" + str(abs(a-b)))\n",
    "print(\"Product of your numbers: \" + str(a*b))\n",
    "print(\"Division of your numbers: \" + str(a/b if a>b else b/a))\n",
    "print(\"Remainder after division: \" + str(a%b if a>b else b%a))"
   ]
  },
  {
   "cell_type": "markdown",
   "id": "9f85272f-ac23-49a6-9277-0712a8f1cf8a",
   "metadata": {},
   "source": [
    "Assignment"
   ]
  },
  {
   "cell_type": "markdown",
   "id": "a2c34b00-0eaa-4378-a2e5-3d36e6ffb19c",
   "metadata": {},
   "source": [
    "Write a program that performs arithmetic operations on three variables"
   ]
  },
  {
   "cell_type": "code",
   "execution_count": 67,
   "id": "c997589f-be9d-4ec6-88c7-4c23c8194380",
   "metadata": {},
   "outputs": [
    {
     "name": "stdout",
     "output_type": "stream",
     "text": [
      "This program allows you to enter 2 numbers and performs all arithmetic operations on them. \n",
      " It compares the numbers and uses the larger number as the divisor\n"
     ]
    },
    {
     "name": "stdin",
     "output_type": "stream",
     "text": [
      "Enter the first number:  25\n",
      "Enter the second number:  5\n",
      "Enter the last number:  4\n"
     ]
    },
    {
     "name": "stdout",
     "output_type": "stream",
     "text": [
      "Sum of your numbers: 34.0\n",
      "Difference of your numbers: 16.0\n",
      "Product of your numbers: 500.0\n",
      "Division of your numbers: 1.25\n",
      "Remainder of your numbers: 1.0\n"
     ]
    }
   ],
   "source": [
    "print(\"This program allows you to enter 2 numbers and performs all arithmetic operations on them. \\n It compares the numbers and uses the larger number as the divisor\")\n",
    "a = float(input(\"Enter the first number: \"))\n",
    "b = float(input(\"Enter the second number: \"))\n",
    "c = float(input(\"Enter the last number: \"))\n",
    "print(\"Sum of your numbers: \" + str(a+b+c))\n",
    "print(\"Difference of your numbers: \" +str(abs(abs(a-b)-c)))\n",
    "print(\"Product of your numbers: \" + str(a*b*c))\n",
    "if a>b:\n",
    "    d = a/b\n",
    "    e = a%b\n",
    "    print(\"Division of your numbers: \" + str(d/c if d>c else c/d))\n",
    "    print(\"Remainder of your numbers: \" + str(d%c if d>c else c%d))\n",
    "else:\n",
    "    d = b/a\n",
    "    e = b%a\n",
    "    print(\"Division of your numbers: \" + str(d/c if d>c else c/d))\n",
    "    print(\"Remainder of your numbers: \" + str(d%c if d>c else c%d))"
   ]
  },
  {
   "cell_type": "markdown",
   "id": "6b37df10-d84d-40a3-b74b-5afe2cf6acd1",
   "metadata": {},
   "source": [
    "### Problem 6"
   ]
  },
  {
   "cell_type": "markdown",
   "id": "44c55f77-ca7f-4c25-b5aa-6c4ce26ababf",
   "metadata": {},
   "source": [
    "Write a program to calculate the union of two sets. a = {3,2,4,5,6,7,8} b = {4,12,5,1,6,8}"
   ]
  },
  {
   "cell_type": "code",
   "execution_count": 69,
   "id": "8dc0fb9a-de26-4e37-ac38-3ac0b9ff4c78",
   "metadata": {},
   "outputs": [
    {
     "name": "stdout",
     "output_type": "stream",
     "text": [
      "This programs performs the union of two sets\n",
      "Union of both sets are: {1, 2, 3, 4, 5, 6, 7, 8, 12}\n"
     ]
    }
   ],
   "source": [
    "# Union merges all sets to one single set with no repitition and lists these as a new set\n",
    "print(\"This programs performs the union of two sets\")\n",
    "a = {3,2,4,5,6,7,8}\n",
    "b = {4,12,5,1,6,8}\n",
    "print(\"Union of both sets are: \" + str(a.union(b)))"
   ]
  },
  {
   "cell_type": "markdown",
   "id": "46a50a27-6d45-40f9-b9cd-8147b2a36d97",
   "metadata": {},
   "source": [
    "Assignment"
   ]
  },
  {
   "cell_type": "markdown",
   "id": "1d190fae-75a6-4dcd-80ee-a555069c4545",
   "metadata": {},
   "source": [
    "Write a program to find union of three sets a = {5,12,52,0,8} b = {2,5,1,9,8} c = {4,5,6,0,10}"
   ]
  },
  {
   "cell_type": "code",
   "execution_count": 70,
   "id": "fc5f8c31-3a41-4731-a421-2f7d5e886858",
   "metadata": {},
   "outputs": [
    {
     "name": "stdout",
     "output_type": "stream",
     "text": [
      "This programs performs the union of three sets\n",
      "Union of both sets are: {0, 1, 2, 4, 5, 6, 8, 9, 10, 12, 52}\n"
     ]
    }
   ],
   "source": [
    "print(\"This programs performs the union of three sets\")\n",
    "a = {5,12,52,0,8}\n",
    "b = {2,5,1,9,8}\n",
    "c = {4,5,6,0,10}\n",
    "print(\"Union of both sets are: \" + str(a.union(b,c)))"
   ]
  },
  {
   "cell_type": "markdown",
   "id": "c8587acd-e13d-46ef-876b-6aff8172ca86",
   "metadata": {},
   "source": [
    "### Problem 7"
   ]
  },
  {
   "cell_type": "markdown",
   "id": "bf20d888-243a-4f2e-9dab-3accb773b58a",
   "metadata": {},
   "source": [
    "Write a program to compute intersection of two sets a = {5,2,4,6,7,1} b = {5,3,11}"
   ]
  },
  {
   "cell_type": "code",
   "execution_count": 72,
   "id": "4af9afd1-b39d-49f6-8495-b1ea8eb5b05d",
   "metadata": {},
   "outputs": [
    {
     "name": "stdout",
     "output_type": "stream",
     "text": [
      "This programs performs the intersection of two sets\n",
      "Intersection of both sets are: {5}\n"
     ]
    }
   ],
   "source": [
    "# Intersection identifies common elements between sets and lists them as a new set\n",
    "print(\"This programs computes the intersection of two sets\")\n",
    "a = {5,2,4,6,7,1}\n",
    "b = {5,3,11}\n",
    "print(\"Intersection of both sets are: \" + str(a.intersection(b)))"
   ]
  },
  {
   "cell_type": "markdown",
   "id": "b52328e1-93ce-495d-af4f-8d7f4214590e",
   "metadata": {},
   "source": [
    "Assignment"
   ]
  },
  {
   "cell_type": "markdown",
   "id": "8c8c1537-6f0a-4824-b146-23318d897a61",
   "metadata": {},
   "source": [
    "Write a program to find intersection of three sets a = {5,2,4,6,7,1} b = {5,3,11} c = 4,5,12,2,1,0}"
   ]
  },
  {
   "cell_type": "code",
   "execution_count": 74,
   "id": "45927798-b819-4c07-8386-689653d59633",
   "metadata": {},
   "outputs": [
    {
     "name": "stdout",
     "output_type": "stream",
     "text": [
      "This programs computes the intersection of three sets\n",
      "Intersection of three sets are: {0, 1, 2, 3, 4, 5, 6, 7, 11, 12}\n"
     ]
    }
   ],
   "source": [
    "print(\"This programs computes the intersection of three sets\")\n",
    "a = {5,2,4,6,7,1}\n",
    "b = {5,3,11}\n",
    "c = {4,5,12,2,1,0}\n",
    "print(\"Intersection of three sets are: \" + str(a.union(b,c)))"
   ]
  },
  {
   "cell_type": "markdown",
   "id": "e2b6d521-97a3-489f-adb8-49495322de72",
   "metadata": {},
   "source": [
    "### Problem 8"
   ]
  },
  {
   "cell_type": "markdown",
   "id": "375132fb-4739-418d-ba05-2c9efccd08bc",
   "metadata": {},
   "source": [
    "Write a program to compute the difference of two sets a = {1,12,2,6,7,8} b = {15,0,1,3,6}"
   ]
  },
  {
   "cell_type": "code",
   "execution_count": 77,
   "id": "8f51c986-f447-4880-8ac5-77f67e124fe4",
   "metadata": {},
   "outputs": [
    {
     "name": "stdout",
     "output_type": "stream",
     "text": [
      "This program computes the difference between two sets\n",
      "Items of set a that are not present in set b: {8, 2, 12, 7}\n",
      "Items of set b that are not present in set a: {0, 3, 15}\n"
     ]
    }
   ],
   "source": [
    "# Difference compares one set with another and lists a new set with elements that are present in first set but not in the second\n",
    "print(\"This program compares one set with another and lists a new set with elements that are present in first set but not in the second\")\n",
    "a = {1,12,2,6,7,8}\n",
    "b = {15,0,1,3,6}\n",
    "# Items of set a that are not present in set b\n",
    "print(\"Items of set a that are not present in set b: \" + str(a.difference(b)))\n",
    "# Items of set b that are not present in set a\n",
    "print(\"Items of set b that are not present in set a: \" + str(b.difference(a)))"
   ]
  },
  {
   "cell_type": "markdown",
   "id": "67c73c9b-e9cc-4c7e-953a-ac2ea0e53694",
   "metadata": {},
   "source": [
    "Assignment"
   ]
  },
  {
   "cell_type": "markdown",
   "id": "e5e40148-63aa-4d12-bbcc-a8f51dc687e1",
   "metadata": {},
   "source": [
    "Write a program to compute the symmetric difference of two sets a = {12,2,0,3,8} b = {15,10,12,3,6}"
   ]
  },
  {
   "cell_type": "code",
   "execution_count": 83,
   "id": "0d689214-653f-44c1-97f1-4538ffbf941e",
   "metadata": {},
   "outputs": [
    {
     "name": "stdout",
     "output_type": "stream",
     "text": [
      "This program computes symmetric difference between two sets\n",
      "It gets the elements present in either of the two sets, but not common to both the sets\n",
      "Symmetric_difference set - Elements present in either of the two sets, but not common to both the sets: {0, 2, 6, 8, 10, 15}\n"
     ]
    }
   ],
   "source": [
    "print(\"This program computes symmetric difference between two sets\")\n",
    "print(\"It gets the elements present in either of the two sets, but not common to both the sets\")\n",
    "a = {12,2,0,3,8}\n",
    "b = {15,10,12,3,6}\n",
    "print(\"Symmetric_difference set - Elements present in either of the two sets, but not common to both the sets: \" + str(a.symmetric_difference(b)))"
   ]
  },
  {
   "cell_type": "markdown",
   "id": "b6010c34-8417-4976-8d1f-41c2ed79a2c0",
   "metadata": {},
   "source": [
    "### Problem 9"
   ]
  },
  {
   "cell_type": "markdown",
   "id": "8c876d17-c38e-439c-9015-a17cb7a26d29",
   "metadata": {},
   "source": [
    "Write a program to display the skip count of a user defined number"
   ]
  },
  {
   "cell_type": "code",
   "execution_count": null,
   "id": "dac27bb8-83c4-41d9-ace2-1433da0b4feb",
   "metadata": {},
   "outputs": [],
   "source": [
    "print(\"This program computes skip count of a user defined number\")\n",
    "num = int(input(\"Enter a number: \"))\n",
    "for i in range(1,11):\n",
    "    print(str(num) + \" * \" + str(i) + \" = \" + str(num*i))"
   ]
  },
  {
   "cell_type": "markdown",
   "id": "451c0512-9b81-496a-890a-40697ef8a8b8",
   "metadata": {},
   "source": [
    "Assignment"
   ]
  },
  {
   "cell_type": "markdown",
   "id": "606041cc-2b33-4586-a45d-4f6410aa5be7",
   "metadata": {},
   "source": [
    "Write a program to get two numbers from user and display skip count for both numbers"
   ]
  },
  {
   "cell_type": "code",
   "execution_count": 89,
   "id": "b44653d5-b261-46e0-b718-d5e5978a2161",
   "metadata": {},
   "outputs": [
    {
     "name": "stdout",
     "output_type": "stream",
     "text": [
      "This program computes skip counts for 2 user defined numbers\n"
     ]
    },
    {
     "name": "stdin",
     "output_type": "stream",
     "text": [
      "Enter first number:  5\n",
      "Enter second number:  8\n"
     ]
    },
    {
     "name": "stdout",
     "output_type": "stream",
     "text": [
      "First number skip count: \n",
      "5 * 1 = 5\n",
      "5 * 2 = 10\n",
      "5 * 3 = 15\n",
      "5 * 4 = 20\n",
      "5 * 5 = 25\n",
      "5 * 6 = 30\n",
      "5 * 7 = 35\n",
      "5 * 8 = 40\n",
      "5 * 9 = 45\n",
      "5 * 10 = 50\n",
      "Second number skip count: \n",
      "8 * 1 = 8\n",
      "8 * 2 = 16\n",
      "8 * 3 = 24\n",
      "8 * 4 = 32\n",
      "8 * 5 = 40\n",
      "8 * 6 = 48\n",
      "8 * 7 = 56\n",
      "8 * 8 = 64\n",
      "8 * 9 = 72\n",
      "8 * 10 = 80\n"
     ]
    }
   ],
   "source": [
    "print(\"This program computes skip counts for 2 user defined numbers\")\n",
    "num1 = int(input(\"Enter first number: \"))\n",
    "num2 = int(input(\"Enter second number: \"))\n",
    "print(\"First number skip count: \")\n",
    "for i in range(1,11):\n",
    "    print(str(num1) + \" * \" + str(i) + \" = \" + str(num1*i))\n",
    "print(\"Second number skip count: \")\n",
    "for i in range(1,11):\n",
    "    print(str(num2) + \" * \" + str(i) + \" = \" + str(num2*i))"
   ]
  },
  {
   "cell_type": "markdown",
   "id": "fa7c4559-fb02-4cd2-82ff-afae3ad8b1da",
   "metadata": {},
   "source": [
    "### Problem 10"
   ]
  },
  {
   "cell_type": "markdown",
   "id": "ec296174-3496-4090-b4f2-5cd49809a546",
   "metadata": {},
   "source": [
    "Write a program to get marks for 6 subjects from user. Compute the total and average of the marks"
   ]
  },
  {
   "cell_type": "code",
   "execution_count": 93,
   "id": "7d4dde19-616e-4fa7-815c-c8770850bd35",
   "metadata": {},
   "outputs": [
    {
     "name": "stdout",
     "output_type": "stream",
     "text": [
      "This program is to calculate the total and average marks of 6 subjects for any given user. The user is requested to input these marks\n"
     ]
    },
    {
     "name": "stdin",
     "output_type": "stream",
     "text": [
      "Enter marks for subject 1:  45\n",
      "Enter marks for subject 2:  56\n",
      "Enter marks for subject 3:  69\n",
      "Enter marks for subject 4:  98\n",
      "Enter marks for subject 5:  87\n",
      "Enter marks for subject 6:  74\n"
     ]
    },
    {
     "name": "stdout",
     "output_type": "stream",
     "text": [
      "Total marks: 429/600\n",
      "Average marks: 71.5\n"
     ]
    }
   ],
   "source": [
    "print(\"This program is to calculate the total and average marks of 6 subjects for any given user. The user is requested to input these marks\")\n",
    "sub1 = int(input(\"Enter marks for subject 1: \"))\n",
    "sub2 = int(input(\"Enter marks for subject 2: \"))\n",
    "sub3 = int(input(\"Enter marks for subject 3: \"))\n",
    "sub4 = int(input(\"Enter marks for subject 4: \"))\n",
    "sub5 = int(input(\"Enter marks for subject 5: \"))\n",
    "sub6 = int(input(\"Enter marks for subject 6: \"))\n",
    "print(\"Total marks: \" + str(sub1+sub2+sub3+sub4+sub5+sub6) + \"/600\")\n",
    "print(\"Average marks: \" + str(float((sub1+sub2+sub3+sub4+sub5+sub6)/6)))"
   ]
  },
  {
   "cell_type": "markdown",
   "id": "d2613552-6b49-4a67-9090-40ae03a408ec",
   "metadata": {},
   "source": [
    "Assignment"
   ]
  },
  {
   "cell_type": "markdown",
   "id": "3e7368fd-30f6-400f-acb7-f14ba92ee431",
   "metadata": {},
   "source": [
    "Write a program to get marks for 6 subjects from user. Compute the total, average and percentage of the marks"
   ]
  },
  {
   "cell_type": "code",
   "execution_count": 95,
   "id": "517fb649-3639-4892-8208-cfeae8ff4cdd",
   "metadata": {},
   "outputs": [
    {
     "name": "stdout",
     "output_type": "stream",
     "text": [
      "This program is to calculate the total, average and percentage marks of 6 subjects for any given user. The user is requested to input these marks\n"
     ]
    },
    {
     "name": "stdin",
     "output_type": "stream",
     "text": [
      "Enter marks for subject 1:  69\n",
      "Enter marks for subject 2:  96\n",
      "Enter marks for subject 3:  58\n",
      "Enter marks for subject 4:  85\n",
      "Enter marks for subject 5:  47\n",
      "Enter marks for subject 6:  74\n"
     ]
    },
    {
     "name": "stdout",
     "output_type": "stream",
     "text": [
      "Total marks: 429/600\n",
      "Average marks: 71.5\n",
      "Percentage marks: 71.5%\n"
     ]
    }
   ],
   "source": [
    "print(\"This program is to calculate the total, average and percentage marks of 6 subjects for any given user. The user is requested to input these marks\")\n",
    "sub1 = int(input(\"Enter marks for subject 1: \"))\n",
    "sub2 = int(input(\"Enter marks for subject 2: \"))\n",
    "sub3 = int(input(\"Enter marks for subject 3: \"))\n",
    "sub4 = int(input(\"Enter marks for subject 4: \"))\n",
    "sub5 = int(input(\"Enter marks for subject 5: \"))\n",
    "sub6 = int(input(\"Enter marks for subject 6: \"))\n",
    "print(\"Total marks: \" + str(sub1+sub2+sub3+sub4+sub5+sub6) + \"/600\")\n",
    "print(\"Average marks: \" + str(float((sub1+sub2+sub3+sub4+sub5+sub6)/6)))\n",
    "print(\"Percentage marks: \" + str(float((sub1+sub2+sub3+sub4+sub5+sub6)/6)) + \"%\")"
   ]
  },
  {
   "cell_type": "markdown",
   "id": "772ea9c7-2d67-47e8-8d83-431eb0737298",
   "metadata": {},
   "source": [
    "### Problem 11"
   ]
  },
  {
   "cell_type": "markdown",
   "id": "4444472e-7dca-42cb-b249-9c4687ab21c9",
   "metadata": {},
   "source": [
    "Write a program to get two numbers and display the larger number"
   ]
  },
  {
   "cell_type": "code",
   "execution_count": 130,
   "id": "caa05df0-65e7-4198-b492-2b738466e175",
   "metadata": {},
   "outputs": [
    {
     "name": "stdout",
     "output_type": "stream",
     "text": [
      "This program gets two numbers from the user and displays the larger number\n"
     ]
    },
    {
     "name": "stdin",
     "output_type": "stream",
     "text": [
      "Enter first number:  5\n",
      "Enter second number:  4\n"
     ]
    },
    {
     "name": "stdout",
     "output_type": "stream",
     "text": [
      "The largest number is: 5\n"
     ]
    }
   ],
   "source": [
    "print(\"This program gets two numbers from the user and displays the larger number\")\n",
    "a = int(input(\"Enter first number: \"))\n",
    "b = int(input(\"Enter second number: \"))\n",
    "#print((str(a) + \" is greater than \" + str(b)) if str(a>b) else (str(b) + \" is greater than \" + str(a)))\n",
    "print(\"The largest number: \" + str(max(a,b)))"
   ]
  },
  {
   "cell_type": "markdown",
   "id": "eb858200-2d9b-4879-8f9d-5e19dbcfbc93",
   "metadata": {},
   "source": [
    "Assignment"
   ]
  },
  {
   "cell_type": "markdown",
   "id": "ad370520-2e15-4883-9d46-9718c0b73b93",
   "metadata": {},
   "source": [
    "Write a program to get three numbers from user and display the largest number"
   ]
  },
  {
   "cell_type": "code",
   "execution_count": 131,
   "id": "e4bf6bd2-60d6-4944-9bd7-b9e3a46d963a",
   "metadata": {},
   "outputs": [
    {
     "name": "stdout",
     "output_type": "stream",
     "text": [
      "This program gets three numbers from the user and displays the larger number\n"
     ]
    },
    {
     "name": "stdin",
     "output_type": "stream",
     "text": [
      "Enter first number:  5\n",
      "Enter second number:  8\n",
      "Enter last number:  42\n"
     ]
    },
    {
     "name": "stdout",
     "output_type": "stream",
     "text": [
      "The largest number: 42\n"
     ]
    }
   ],
   "source": [
    "print(\"This program gets three numbers from the user and displays the larger number\")\n",
    "a = int(input(\"Enter first number: \"))\n",
    "b = int(input(\"Enter second number: \"))\n",
    "c = int(input(\"Enter last number: \"))\n",
    "print(\"The largest number: \" + str(max(a,b,c)))"
   ]
  },
  {
   "cell_type": "markdown",
   "id": "a73d3219-47d2-4a9d-9904-553672d03df8",
   "metadata": {},
   "source": [
    "#### My own assignment:\n",
    "Write a program to get three numbers from user and display in ascending order"
   ]
  },
  {
   "cell_type": "code",
   "execution_count": null,
   "id": "44bfc4ab-444f-41a0-9e84-c62829b5fa9b",
   "metadata": {},
   "outputs": [],
   "source": []
  },
  {
   "cell_type": "code",
   "execution_count": 129,
   "id": "7a98a38d-5afd-4218-a755-f98a0d0571d7",
   "metadata": {},
   "outputs": [
    {
     "name": "stdout",
     "output_type": "stream",
     "text": [
      "This program gets three numbers from the user and displays them in ascending order\n"
     ]
    },
    {
     "name": "stdin",
     "output_type": "stream",
     "text": [
      "Enter the length of your list:  5\n"
     ]
    },
    {
     "name": "stdout",
     "output_type": "stream",
     "text": [
      "Enter number 0: \n"
     ]
    },
    {
     "name": "stdin",
     "output_type": "stream",
     "text": [
      " 25\n"
     ]
    },
    {
     "name": "stdout",
     "output_type": "stream",
     "text": [
      "Enter number 1: \n"
     ]
    },
    {
     "name": "stdin",
     "output_type": "stream",
     "text": [
      " 26\n"
     ]
    },
    {
     "name": "stdout",
     "output_type": "stream",
     "text": [
      "Enter number 2: \n"
     ]
    },
    {
     "name": "stdin",
     "output_type": "stream",
     "text": [
      " 34\n"
     ]
    },
    {
     "name": "stdout",
     "output_type": "stream",
     "text": [
      "Enter number 3: \n"
     ]
    },
    {
     "name": "stdin",
     "output_type": "stream",
     "text": [
      " 2\n"
     ]
    },
    {
     "name": "stdout",
     "output_type": "stream",
     "text": [
      "Enter number 4: \n"
     ]
    },
    {
     "name": "stdin",
     "output_type": "stream",
     "text": [
      " 12\n"
     ]
    },
    {
     "name": "stdout",
     "output_type": "stream",
     "text": [
      "Your list: [25, 26, 34, 2, 12]\n",
      "Your list sorted in ascending order: [2, 12, 25, 26, 34]\n"
     ]
    }
   ],
   "source": [
    "print(\"This program gets three numbers from the user and displays them in ascending order\")\n",
    "#a = int(input(\"Enter first number: \"))\n",
    "#b = int(input(\"Enter second number: \"))\n",
    "#c = int(input(\"Enter third number: \"))\n",
    "#if (a>b):\n",
    "#    smallest = b\n",
    "# largest = a\n",
    "#  if (c<smallest):\n",
    "#        smallest = c\n",
    "#        mid = b\n",
    "#    elif (c>largest):\n",
    "#        largest = c\n",
    "#        mid = b\n",
    "#    else:\n",
    "#        mid = c\n",
    "#else:\n",
    "#    smallest = a\n",
    "#    largest = b\n",
    "#    if (c<smallest):\n",
    "#        smallest = c\n",
    "#        mid = b\n",
    "#    elif (c>largest):\n",
    "#        largest = c\n",
    "#        mid = b\n",
    "#    else:\n",
    "#        mid = c  \n",
    "\n",
    "# for user input numbers separated by space\n",
    "#num = input(\"Enter three numbers separated by a space between them: \")\n",
    "#num_list = []\n",
    "# num_list = num.split(\" \")\n",
    "\n",
    "# for user input numbers separated by comma\n",
    "#num = input(\"Enter three numbers separated by a comma between them: \")\n",
    "#num_list = []\n",
    "#num_list = num.split(\",\") \n",
    "\n",
    "# for allowing user to list the range of numbers. User can press enter key after typing in each number\n",
    "n = int(input(\"Enter the length of your list: \"))\n",
    "num_list = []\n",
    "for i in range (0, n):\n",
    "    print(\"Enter number \" + str(i) + \": \")\n",
    "    num = int(input())        \n",
    "    num_list.append(num)\n",
    "print(\"Your list: \" + str(num_list))\n",
    "num_list.sort()\n",
    "print(\"Your list sorted in ascending order: \" + str(num_list))"
   ]
  },
  {
   "cell_type": "markdown",
   "id": "c5e33b45-609d-41de-85f3-824948d1da7b",
   "metadata": {},
   "source": [
    "### Problem 12"
   ]
  },
  {
   "cell_type": "markdown",
   "id": "a36600a6-289b-4638-a136-f549e46c67fc",
   "metadata": {},
   "source": [
    "Write a program to display a pattern using *"
   ]
  },
  {
   "cell_type": "code",
   "execution_count": 175,
   "id": "b0c8f185-1e4a-4c29-b487-de1754d86972",
   "metadata": {},
   "outputs": [
    {
     "name": "stdout",
     "output_type": "stream",
     "text": [
      "This program displays a pattern using *\n",
      "Enter the number of rows for your pattern: \n"
     ]
    },
    {
     "name": "stdin",
     "output_type": "stream",
     "text": [
      " 3\n"
     ]
    },
    {
     "name": "stdout",
     "output_type": "stream",
     "text": [
      "    \n",
      "*      \n",
      "*  *      \n",
      "*  *  *      \n"
     ]
    }
   ],
   "source": [
    "print(\"This program displays a pattern using *\")\n",
    "print(\"Enter the number of rows for your pattern: \")\n",
    "n = int(input())\n",
    "for i in range (n+1):\n",
    "    for j in range(i):\n",
    "        print(\"*\", end=\"  \")\n",
    "    print(\"\")"
   ]
  },
  {
   "cell_type": "markdown",
   "id": "018c2996-4759-45c6-ae08-3dd382fae0c1",
   "metadata": {},
   "source": [
    "Assignment"
   ]
  },
  {
   "cell_type": "markdown",
   "id": "cdcf3f83-4b46-4fdd-818b-6e7c17dfdd56",
   "metadata": {},
   "source": [
    "Write a code to align the above pattern to right"
   ]
  },
  {
   "cell_type": "code",
   "execution_count": 209,
   "id": "18e1315d-daa3-48cf-898b-a597564b4dfa",
   "metadata": {},
   "outputs": [
    {
     "name": "stdout",
     "output_type": "stream",
     "text": [
      "This program displays a right aligned pattern using *\n",
      "Enter the number of rows for your pattern: \n"
     ]
    },
    {
     "name": "stdin",
     "output_type": "stream",
     "text": [
      " 3\n"
     ]
    },
    {
     "name": "stdout",
     "output_type": "stream",
     "text": [
      "  *\n",
      " **\n",
      "***\n"
     ]
    }
   ],
   "source": [
    "print(\"This program displays a right aligned pattern using *\")\n",
    "print(\"Enter the number of rows for your pattern: \")\n",
    "n = int(input())\n",
    "for i in range(n):\n",
    "    print(' '*(n-i-1) + '*'*(i+1))\n",
    "# Using rjust keyword:\n",
    "#for i in range(n):\n",
    "#    print(((i+1)*'*').rjust(n))"
   ]
  },
  {
   "cell_type": "code",
   "execution_count": null,
   "id": "6bcfe61c-c8fa-4af6-8644-fe5c7db15a2e",
   "metadata": {},
   "outputs": [],
   "source": []
  },
  {
   "cell_type": "code",
   "execution_count": null,
   "id": "984fba05-9361-425a-874e-39a00af03a73",
   "metadata": {},
   "outputs": [],
   "source": []
  },
  {
   "cell_type": "code",
   "execution_count": null,
   "id": "2362bb7e-ce6a-4fcc-8058-16fc3a54c734",
   "metadata": {},
   "outputs": [],
   "source": []
  },
  {
   "cell_type": "code",
   "execution_count": null,
   "id": "d19a1027-571c-40d1-89ee-1fe6d37005f2",
   "metadata": {},
   "outputs": [],
   "source": []
  },
  {
   "cell_type": "code",
   "execution_count": null,
   "id": "0e34b72c-1117-4965-93d5-61ac1345d561",
   "metadata": {},
   "outputs": [],
   "source": []
  },
  {
   "cell_type": "code",
   "execution_count": null,
   "id": "28fac1ff-6c6e-4c59-85c2-631ffca9bfc6",
   "metadata": {},
   "outputs": [],
   "source": []
  },
  {
   "cell_type": "code",
   "execution_count": null,
   "id": "58a54bed-82a9-4ab3-8e32-d2a52b448467",
   "metadata": {},
   "outputs": [],
   "source": []
  },
  {
   "cell_type": "code",
   "execution_count": null,
   "id": "a900d147-483d-46e0-9c28-a7c44ebd4991",
   "metadata": {},
   "outputs": [],
   "source": []
  },
  {
   "cell_type": "code",
   "execution_count": null,
   "id": "ae359f99-da9f-4fb3-8498-2f86a254b8e7",
   "metadata": {},
   "outputs": [],
   "source": []
  },
  {
   "cell_type": "code",
   "execution_count": null,
   "id": "f8166ed1-16bf-442c-be4a-ffa0ce5a7a7d",
   "metadata": {},
   "outputs": [],
   "source": []
  },
  {
   "cell_type": "code",
   "execution_count": null,
   "id": "1c95e9a3-5f28-49d9-a37d-c51de4518479",
   "metadata": {},
   "outputs": [],
   "source": []
  },
  {
   "cell_type": "code",
   "execution_count": null,
   "id": "0d7eeb22-c104-4ce9-89a9-26fe4b726550",
   "metadata": {},
   "outputs": [],
   "source": []
  },
  {
   "cell_type": "code",
   "execution_count": null,
   "id": "f6f2fd49-d8f5-424e-9e2f-fa31a7a6580c",
   "metadata": {},
   "outputs": [],
   "source": []
  },
  {
   "cell_type": "code",
   "execution_count": null,
   "id": "8103596e-d236-41f3-b724-73a5758f140b",
   "metadata": {},
   "outputs": [],
   "source": []
  },
  {
   "cell_type": "code",
   "execution_count": null,
   "id": "2a48beb6-4059-462c-a81d-5eb80f30d451",
   "metadata": {},
   "outputs": [],
   "source": []
  },
  {
   "cell_type": "code",
   "execution_count": null,
   "id": "b9b89d7f-d29f-4eaa-93e5-4871767c33dc",
   "metadata": {},
   "outputs": [],
   "source": []
  },
  {
   "cell_type": "code",
   "execution_count": null,
   "id": "15e77043-318e-479d-8873-9ff888883ee2",
   "metadata": {},
   "outputs": [],
   "source": []
  },
  {
   "cell_type": "code",
   "execution_count": null,
   "id": "17f3ea12-74a9-4741-b9a1-c58d10806a7f",
   "metadata": {},
   "outputs": [],
   "source": []
  },
  {
   "cell_type": "code",
   "execution_count": null,
   "id": "a30b4672-f0ab-456b-9ab2-8ca8f923dfe4",
   "metadata": {},
   "outputs": [],
   "source": []
  },
  {
   "cell_type": "code",
   "execution_count": null,
   "id": "6ab77636-c1f4-4b12-a103-5d3f470cbb19",
   "metadata": {},
   "outputs": [],
   "source": []
  },
  {
   "cell_type": "code",
   "execution_count": null,
   "id": "4a341afe-0cf3-4639-9ffe-cce6c79ccf3e",
   "metadata": {},
   "outputs": [],
   "source": []
  },
  {
   "cell_type": "code",
   "execution_count": null,
   "id": "df5efb42-827a-4a38-814d-0f14d96421de",
   "metadata": {},
   "outputs": [],
   "source": []
  },
  {
   "cell_type": "code",
   "execution_count": null,
   "id": "149ed494-e5bd-44f9-b9ee-ac6845fc985c",
   "metadata": {},
   "outputs": [],
   "source": []
  },
  {
   "cell_type": "code",
   "execution_count": null,
   "id": "853488c9-e0b3-4e35-bc34-573fb3d640ff",
   "metadata": {},
   "outputs": [],
   "source": []
  },
  {
   "cell_type": "code",
   "execution_count": null,
   "id": "072609e2-c4be-4d4b-bc9e-c23261f93578",
   "metadata": {},
   "outputs": [],
   "source": []
  },
  {
   "cell_type": "code",
   "execution_count": null,
   "id": "8979c47a-d9c0-4389-b972-1393e1e49308",
   "metadata": {},
   "outputs": [],
   "source": []
  },
  {
   "cell_type": "code",
   "execution_count": null,
   "id": "5c6d27d4-007d-4ab1-b971-141f039b3e62",
   "metadata": {},
   "outputs": [],
   "source": []
  },
  {
   "cell_type": "code",
   "execution_count": null,
   "id": "29a026ff-f896-47eb-8aa9-851514e4d173",
   "metadata": {},
   "outputs": [],
   "source": []
  },
  {
   "cell_type": "code",
   "execution_count": null,
   "id": "83344ba8-d747-4e09-9aba-5ff8a0c04fb2",
   "metadata": {},
   "outputs": [],
   "source": []
  },
  {
   "cell_type": "code",
   "execution_count": null,
   "id": "9e0d4e73-a453-428f-93cb-7ea9546fd61e",
   "metadata": {},
   "outputs": [],
   "source": []
  },
  {
   "cell_type": "code",
   "execution_count": null,
   "id": "e20a1958-2c5a-4057-ac30-0f7c5ba14f4b",
   "metadata": {},
   "outputs": [],
   "source": []
  },
  {
   "cell_type": "code",
   "execution_count": null,
   "id": "983aa569-c3e1-437b-b7cb-9d6c08c83a45",
   "metadata": {},
   "outputs": [],
   "source": []
  },
  {
   "cell_type": "code",
   "execution_count": null,
   "id": "2143b9b2-10d3-4764-a50b-265663603e47",
   "metadata": {},
   "outputs": [],
   "source": []
  },
  {
   "cell_type": "code",
   "execution_count": null,
   "id": "3b76a26a-1208-4548-975f-7488f310f31f",
   "metadata": {},
   "outputs": [],
   "source": []
  },
  {
   "cell_type": "code",
   "execution_count": null,
   "id": "526426c2-8d34-4449-9bab-d1110180b8f7",
   "metadata": {},
   "outputs": [],
   "source": []
  },
  {
   "cell_type": "code",
   "execution_count": null,
   "id": "37acf419-900e-4e16-8f4e-3324eb97766e",
   "metadata": {},
   "outputs": [],
   "source": []
  },
  {
   "cell_type": "code",
   "execution_count": null,
   "id": "56410041-b64c-4f72-bee3-be8e434e00c8",
   "metadata": {},
   "outputs": [],
   "source": []
  },
  {
   "cell_type": "code",
   "execution_count": null,
   "id": "c9a46f02-4713-4215-81b5-ff140a5853e6",
   "metadata": {},
   "outputs": [],
   "source": []
  },
  {
   "cell_type": "code",
   "execution_count": null,
   "id": "a4c3d257-08b7-491a-9de3-6ad113124a28",
   "metadata": {},
   "outputs": [],
   "source": []
  },
  {
   "cell_type": "code",
   "execution_count": null,
   "id": "1293a848-78e3-4fbd-bd61-9429c1727adc",
   "metadata": {},
   "outputs": [],
   "source": []
  },
  {
   "cell_type": "code",
   "execution_count": null,
   "id": "73e8e808-c8e3-455d-878d-ef6987bdaf48",
   "metadata": {},
   "outputs": [],
   "source": []
  },
  {
   "cell_type": "code",
   "execution_count": null,
   "id": "309b94bd-8a40-4d30-8dba-b8ecff8ab9c8",
   "metadata": {},
   "outputs": [],
   "source": []
  },
  {
   "cell_type": "code",
   "execution_count": null,
   "id": "3a7b9a43-837d-4281-8510-4c51cbf18ea9",
   "metadata": {},
   "outputs": [],
   "source": []
  },
  {
   "cell_type": "code",
   "execution_count": null,
   "id": "b98bb688-284d-4daf-a518-8ea2284330d7",
   "metadata": {},
   "outputs": [],
   "source": []
  },
  {
   "cell_type": "code",
   "execution_count": null,
   "id": "2f760630-a501-40f9-9131-c7ae128fa336",
   "metadata": {},
   "outputs": [],
   "source": []
  },
  {
   "cell_type": "code",
   "execution_count": null,
   "id": "21a3abdf-ffd9-4a9e-ac1b-1b82d076567a",
   "metadata": {},
   "outputs": [],
   "source": []
  },
  {
   "cell_type": "code",
   "execution_count": null,
   "id": "0b6d2276-64d7-4271-9611-22ba5fafa840",
   "metadata": {},
   "outputs": [],
   "source": []
  },
  {
   "cell_type": "code",
   "execution_count": null,
   "id": "db823217-8935-4177-8133-cd8153b18b74",
   "metadata": {},
   "outputs": [],
   "source": []
  },
  {
   "cell_type": "code",
   "execution_count": null,
   "id": "f54b528b-b616-417e-b772-c2455a69258a",
   "metadata": {},
   "outputs": [],
   "source": []
  },
  {
   "cell_type": "code",
   "execution_count": null,
   "id": "fe1890ab-f3f3-48ff-a6a5-48fc54fcd6e0",
   "metadata": {},
   "outputs": [],
   "source": []
  },
  {
   "cell_type": "code",
   "execution_count": null,
   "id": "2509da31-6180-4508-b16c-b54c9737046b",
   "metadata": {},
   "outputs": [],
   "source": []
  },
  {
   "cell_type": "code",
   "execution_count": null,
   "id": "f4d95785-79db-4da8-96d4-1d6496f62a75",
   "metadata": {},
   "outputs": [],
   "source": []
  },
  {
   "cell_type": "code",
   "execution_count": null,
   "id": "6a449b4b-efbc-41cf-b558-c5b41eb6f69e",
   "metadata": {},
   "outputs": [],
   "source": []
  },
  {
   "cell_type": "code",
   "execution_count": null,
   "id": "f998f48b-a81d-4c05-80f1-a545f7039040",
   "metadata": {},
   "outputs": [],
   "source": []
  },
  {
   "cell_type": "code",
   "execution_count": null,
   "id": "578ad452-b768-44eb-b3de-808f55be99bb",
   "metadata": {},
   "outputs": [],
   "source": []
  },
  {
   "cell_type": "code",
   "execution_count": null,
   "id": "510ff4fe-d052-4bf6-9639-716c4b3beed3",
   "metadata": {},
   "outputs": [],
   "source": []
  },
  {
   "cell_type": "code",
   "execution_count": null,
   "id": "6db2275a-450a-48e7-b91f-201a36970793",
   "metadata": {},
   "outputs": [],
   "source": []
  },
  {
   "cell_type": "code",
   "execution_count": null,
   "id": "1a83011f-b54a-4006-bf30-6a9d5c8813b7",
   "metadata": {},
   "outputs": [],
   "source": []
  },
  {
   "cell_type": "code",
   "execution_count": null,
   "id": "25983e8e-e898-45f7-bd35-33000cdc89a9",
   "metadata": {},
   "outputs": [],
   "source": []
  },
  {
   "cell_type": "code",
   "execution_count": null,
   "id": "6a15d23c-bf2d-47e9-ab58-6d5e1d5d40d7",
   "metadata": {},
   "outputs": [],
   "source": []
  },
  {
   "cell_type": "code",
   "execution_count": null,
   "id": "4d5969da-eb33-4def-9413-b5fed7dafa4d",
   "metadata": {},
   "outputs": [],
   "source": []
  },
  {
   "cell_type": "code",
   "execution_count": null,
   "id": "cfaac80c-bdcc-4b03-be62-ca5366a04680",
   "metadata": {},
   "outputs": [],
   "source": []
  },
  {
   "cell_type": "code",
   "execution_count": null,
   "id": "0077cf3e-c20e-4c0f-83ac-a2ebe3d2c598",
   "metadata": {},
   "outputs": [],
   "source": []
  },
  {
   "cell_type": "code",
   "execution_count": null,
   "id": "7b838f1b-f86c-47df-b330-ef302b774eff",
   "metadata": {},
   "outputs": [],
   "source": []
  },
  {
   "cell_type": "code",
   "execution_count": null,
   "id": "b14396b1-cf1d-475f-b662-569086b3d806",
   "metadata": {},
   "outputs": [],
   "source": []
  },
  {
   "cell_type": "code",
   "execution_count": null,
   "id": "8f8c7908-f751-490d-91ee-473e28a144c2",
   "metadata": {},
   "outputs": [],
   "source": []
  },
  {
   "cell_type": "code",
   "execution_count": null,
   "id": "2e6de36a-a5ee-49c4-8162-93f3384b2d30",
   "metadata": {},
   "outputs": [],
   "source": []
  },
  {
   "cell_type": "code",
   "execution_count": null,
   "id": "0cf2b113-fd42-49fa-85fb-2ff7a26b6107",
   "metadata": {},
   "outputs": [],
   "source": []
  },
  {
   "cell_type": "code",
   "execution_count": null,
   "id": "6c65f55b-5112-461f-9651-230998559c4b",
   "metadata": {},
   "outputs": [],
   "source": []
  },
  {
   "cell_type": "code",
   "execution_count": null,
   "id": "3960c1a0-0337-40eb-8e2b-aacec5a45937",
   "metadata": {},
   "outputs": [],
   "source": []
  },
  {
   "cell_type": "code",
   "execution_count": null,
   "id": "e0d6c85e-d01b-440d-95a9-cbd6e3ef8cf9",
   "metadata": {},
   "outputs": [],
   "source": []
  },
  {
   "cell_type": "code",
   "execution_count": null,
   "id": "a202e39b-e899-4e60-945e-04277f774b8a",
   "metadata": {},
   "outputs": [],
   "source": []
  },
  {
   "cell_type": "code",
   "execution_count": null,
   "id": "972ff9fe-3a66-43af-af23-af18d7896b8e",
   "metadata": {},
   "outputs": [],
   "source": []
  },
  {
   "cell_type": "code",
   "execution_count": null,
   "id": "696dd8d9-a5e9-47e5-8dc5-e70a8de60810",
   "metadata": {},
   "outputs": [],
   "source": []
  },
  {
   "cell_type": "code",
   "execution_count": null,
   "id": "41bdfe9c-9fd0-41e3-8d98-259bea984c94",
   "metadata": {},
   "outputs": [],
   "source": []
  },
  {
   "cell_type": "code",
   "execution_count": null,
   "id": "2852a292-83b6-4a84-9c00-6180f56509f7",
   "metadata": {},
   "outputs": [],
   "source": []
  },
  {
   "cell_type": "code",
   "execution_count": null,
   "id": "9dc76d31-95e7-4198-bd18-7e39f2a5c09c",
   "metadata": {},
   "outputs": [],
   "source": []
  },
  {
   "cell_type": "code",
   "execution_count": null,
   "id": "29da7f61-8f1b-46ff-8744-0ed464ae1e17",
   "metadata": {},
   "outputs": [],
   "source": []
  },
  {
   "cell_type": "code",
   "execution_count": null,
   "id": "f535ae54-fa6d-449c-969e-1ed6caf7b9a9",
   "metadata": {},
   "outputs": [],
   "source": []
  },
  {
   "cell_type": "code",
   "execution_count": null,
   "id": "ce8ff7db-10ca-4942-967c-7d1bf8b4cbba",
   "metadata": {},
   "outputs": [],
   "source": []
  },
  {
   "cell_type": "code",
   "execution_count": null,
   "id": "1b95341e-2a0b-4446-81ba-a08c9f62923a",
   "metadata": {},
   "outputs": [],
   "source": []
  },
  {
   "cell_type": "code",
   "execution_count": null,
   "id": "cec99e99-762c-4e2f-aaea-f54cdb2255a1",
   "metadata": {},
   "outputs": [],
   "source": []
  },
  {
   "cell_type": "code",
   "execution_count": null,
   "id": "ec9a84fa-fddc-4560-9a4f-741697da4777",
   "metadata": {},
   "outputs": [],
   "source": []
  },
  {
   "cell_type": "code",
   "execution_count": null,
   "id": "1270e86e-c095-4a1e-a9fa-ffc37d39e2b1",
   "metadata": {},
   "outputs": [],
   "source": []
  },
  {
   "cell_type": "code",
   "execution_count": null,
   "id": "581d36ee-7660-4126-91b6-d9b172529e33",
   "metadata": {},
   "outputs": [],
   "source": []
  },
  {
   "cell_type": "code",
   "execution_count": null,
   "id": "f1aa99d1-672d-4cea-80cf-e5bf3d14d8f3",
   "metadata": {},
   "outputs": [],
   "source": []
  },
  {
   "cell_type": "code",
   "execution_count": null,
   "id": "dd82e7eb-841f-42f2-944a-86c63444afa0",
   "metadata": {},
   "outputs": [],
   "source": []
  },
  {
   "cell_type": "code",
   "execution_count": null,
   "id": "031fa73c-1c15-444e-a6d3-64c5e33fbada",
   "metadata": {},
   "outputs": [],
   "source": []
  },
  {
   "cell_type": "code",
   "execution_count": null,
   "id": "20e6a11f-ad05-4e54-a22b-0185c3b0a6fe",
   "metadata": {},
   "outputs": [],
   "source": []
  },
  {
   "cell_type": "code",
   "execution_count": null,
   "id": "e9a8f24f-9c0f-4fef-8083-1eed45fe23e1",
   "metadata": {},
   "outputs": [],
   "source": []
  },
  {
   "cell_type": "code",
   "execution_count": null,
   "id": "c774998b-6d03-4791-9357-b107077ad9a6",
   "metadata": {},
   "outputs": [],
   "source": []
  },
  {
   "cell_type": "code",
   "execution_count": null,
   "id": "0cc75854-94b2-4299-b6fe-8c4fdbc8d5f1",
   "metadata": {},
   "outputs": [],
   "source": []
  },
  {
   "cell_type": "code",
   "execution_count": null,
   "id": "09036fe8-e207-4cb4-94e2-1d260e69dacb",
   "metadata": {},
   "outputs": [],
   "source": []
  },
  {
   "cell_type": "code",
   "execution_count": null,
   "id": "e943fbdc-020b-4d90-99c5-d8bd98464e0b",
   "metadata": {},
   "outputs": [],
   "source": []
  }
 ],
 "metadata": {
  "kernelspec": {
   "display_name": "Python 3 (ipykernel)",
   "language": "python",
   "name": "python3"
  },
  "language_info": {
   "codemirror_mode": {
    "name": "ipython",
    "version": 3
   },
   "file_extension": ".py",
   "mimetype": "text/x-python",
   "name": "python",
   "nbconvert_exporter": "python",
   "pygments_lexer": "ipython3",
   "version": "3.9.7"
  }
 },
 "nbformat": 4,
 "nbformat_minor": 5
}
