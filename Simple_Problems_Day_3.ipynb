{
 "cells": [
  {
   "cell_type": "markdown",
   "id": "afafd146-5137-495a-8f99-15294c7da4a2",
   "metadata": {},
   "source": [
    "### Problem 26"
   ]
  },
  {
   "cell_type": "markdown",
   "id": "d5efb934-d7e2-4113-8dea-68e35097c766",
   "metadata": {},
   "source": [
    "Write a problem to check if the number is odd or even,also find the square of the number"
   ]
  },
  {
   "cell_type": "code",
   "execution_count": 15,
   "id": "658084a2-6158-4fc5-843b-d97f4db8be0f",
   "metadata": {},
   "outputs": [
    {
     "name": "stdout",
     "output_type": "stream",
     "text": [
      "This program checks if the user entered number is even or odd and displays the square of the number\n"
     ]
    },
    {
     "name": "stdin",
     "output_type": "stream",
     "text": [
      "Enter an integer:  25\n"
     ]
    },
    {
     "name": "stdout",
     "output_type": "stream",
     "text": [
      "25 is a odd number\n",
      "Square of 25: 625\n"
     ]
    }
   ],
   "source": [
    "print(\"This program checks if the user entered number is even or odd and displays the square of the number\")\n",
    "num = int(input(\"Enter an integer: \"))\n",
    "res = num % 2\n",
    "if (res==0):\n",
    "    print(str(num) + \" is an even number\")\n",
    "else:\n",
    "    print(str(num) + \" is a odd number\")\n",
    "sqr = num ** 2\n",
    "print(\"Square of \" + str(num) + \": \" + str(sqr))"
   ]
  },
  {
   "cell_type": "markdown",
   "id": "fec9fab3-828d-40a1-955f-b14cd6f4f0e9",
   "metadata": {},
   "source": [
    "### Problem 27"
   ]
  },
  {
   "cell_type": "markdown",
   "id": "dea18f31-efd7-4d0e-9deb-6e179d230ce3",
   "metadata": {},
   "source": [
    "Write a program to check if the year is leap or not"
   ]
  },
  {
   "cell_type": "code",
   "execution_count": 18,
   "id": "573a6d2f-4dd2-4e2b-863a-9ce933418bf9",
   "metadata": {},
   "outputs": [
    {
     "name": "stdout",
     "output_type": "stream",
     "text": [
      "This program checks if the user entered year is a leap year\n"
     ]
    },
    {
     "name": "stdin",
     "output_type": "stream",
     "text": [
      "Enter the year:  1994\n"
     ]
    },
    {
     "name": "stdout",
     "output_type": "stream",
     "text": [
      "1994 is not a leap year\n"
     ]
    }
   ],
   "source": [
    "print(\"This program checks if the user entered year is a leap year\")\n",
    "year = int(input(\"Enter the year: \"))\n",
    "if ((year % 4) == 0):\n",
    "    print(str(year) + \" is a leap year\")\n",
    "else:\n",
    "    print(str(year) + \" is not a leap year\")"
   ]
  },
  {
   "cell_type": "markdown",
   "id": "8f32b500-1910-492c-b5ec-247ddfabbfb4",
   "metadata": {},
   "source": [
    "Assignment"
   ]
  },
  {
   "cell_type": "markdown",
   "id": "24bf6814-db8f-48a5-a16a-555e02847e83",
   "metadata": {},
   "source": [
    "Write a program to get 5 years from the user and display only the leap years"
   ]
  },
  {
   "cell_type": "code",
   "execution_count": 22,
   "id": "6405bd5f-887f-4f59-881b-313da613ce05",
   "metadata": {},
   "outputs": [
    {
     "name": "stdout",
     "output_type": "stream",
     "text": [
      "This program gets 5 user input years in an array and displays only the leap years\n",
      "Enter year 1: \n"
     ]
    },
    {
     "name": "stdin",
     "output_type": "stream",
     "text": [
      " 1992\n"
     ]
    },
    {
     "name": "stdout",
     "output_type": "stream",
     "text": [
      "Enter year 2: \n"
     ]
    },
    {
     "name": "stdin",
     "output_type": "stream",
     "text": [
      " 1994\n"
     ]
    },
    {
     "name": "stdout",
     "output_type": "stream",
     "text": [
      "Enter year 3: \n"
     ]
    },
    {
     "name": "stdin",
     "output_type": "stream",
     "text": [
      " 1996\n"
     ]
    },
    {
     "name": "stdout",
     "output_type": "stream",
     "text": [
      "Enter year 4: \n"
     ]
    },
    {
     "name": "stdin",
     "output_type": "stream",
     "text": [
      " 1998\n"
     ]
    },
    {
     "name": "stdout",
     "output_type": "stream",
     "text": [
      "Enter year 5: \n"
     ]
    },
    {
     "name": "stdin",
     "output_type": "stream",
     "text": [
      " 2000\n"
     ]
    },
    {
     "name": "stdout",
     "output_type": "stream",
     "text": [
      "Years you have entered: array('i', [1992, 1994, 1996, 1998, 2000])\n",
      "Leap years: array('i', [1992, 1996, 2000])\n"
     ]
    }
   ],
   "source": [
    "print(\"This program gets 5 user input years in an array and displays only the leap years\")\n",
    "import array as arr\n",
    "my_arr = arr.array('i', [])\n",
    "for i in range(5):\n",
    "    print(\"Enter year \" + str(i+1) + \": \")\n",
    "    n = int(input())\n",
    "    my_arr.append(n)\n",
    "print(\"Years you have entered: \" + str(my_arr))\n",
    "leap_arr = arr.array('i', [])\n",
    "for x in my_arr:\n",
    "    if ((x % 4) == 0):\n",
    "        leap_arr.append(x)\n",
    "    else:\n",
    "        continue\n",
    "print(\"Leap years: \" + str(leap_arr))\n",
    "        "
   ]
  },
  {
   "cell_type": "markdown",
   "id": "1ddd2bbe-ea1b-447e-b02f-e55e81c74ef4",
   "metadata": {},
   "source": [
    "### Problem 28"
   ]
  },
  {
   "cell_type": "markdown",
   "id": "0bb1fef2-2b66-4c5c-bce0-209d6956528d",
   "metadata": {},
   "source": [
    "Write a program to find the square and cube of a user defined number"
   ]
  },
  {
   "cell_type": "code",
   "execution_count": 25,
   "id": "d572498c-68db-4c8e-8fc9-678d8b17fda4",
   "metadata": {},
   "outputs": [
    {
     "name": "stdout",
     "output_type": "stream",
     "text": [
      "This program finds the square and cube of a number\n"
     ]
    },
    {
     "name": "stdin",
     "output_type": "stream",
     "text": [
      "Enter a number:  8\n"
     ]
    },
    {
     "name": "stdout",
     "output_type": "stream",
     "text": [
      "Square of 8.0: 64.0\n",
      "Cube of 8.0: 512.0\n"
     ]
    }
   ],
   "source": [
    "print(\"This program finds the square and cube of a number\")\n",
    "num = float(input(\"Enter a number: \"))\n",
    "print(\"Square of \" + str(num) +\": \" + str(num**2))\n",
    "print(\"Cube of \" + str(num) + \": \" + str(num**3))"
   ]
  },
  {
   "cell_type": "markdown",
   "id": "590fa4c7-2d61-4887-a0be-06452bae9646",
   "metadata": {},
   "source": [
    "### Problem 29"
   ]
  },
  {
   "cell_type": "markdown",
   "id": "21d23504-3653-4575-aa01-b5ded50aac5a",
   "metadata": {},
   "source": [
    "Write a program to check if the number is positive or negative"
   ]
  },
  {
   "cell_type": "code",
   "execution_count": 40,
   "id": "24954cff-e4b3-400f-bc0c-be3817d4b4cb",
   "metadata": {
    "tags": []
   },
   "outputs": [
    {
     "name": "stdout",
     "output_type": "stream",
     "text": [
      "This program checks if the number is positive or negative\n"
     ]
    },
    {
     "name": "stdin",
     "output_type": "stream",
     "text": [
      "Enter your number:  25\n"
     ]
    },
    {
     "name": "stdout",
     "output_type": "stream",
     "text": [
      "25.0 is positive\n"
     ]
    }
   ],
   "source": [
    "print(\"This program checks if the number is positive or negative\")\n",
    "num = float(input(\"Enter your number: \"))\n",
    "if (num>0):\n",
    "    print(str(num) + \" is positive\")\n",
    "elif (num<0):\n",
    "    print(str(num) + \" is negative\")\n",
    "elif (num==0):\n",
    "    print(\"You entered zero, try another number\")\n",
    "else:\n",
    "    print(\"Invalid entry. Try again!\")"
   ]
  },
  {
   "cell_type": "markdown",
   "id": "a237714f-e91f-484d-8960-88c624fb76b3",
   "metadata": {},
   "source": [
    "### Program 30"
   ]
  },
  {
   "cell_type": "markdown",
   "id": "df741fa6-05c1-46ea-9cc8-c0aa715db142",
   "metadata": {},
   "source": [
    "Write a program to checks divisibility rule for 2 and 3"
   ]
  },
  {
   "cell_type": "code",
   "execution_count": 39,
   "id": "adde9512-09d2-4b66-b49f-ac35f3167b9e",
   "metadata": {},
   "outputs": [
    {
     "name": "stdout",
     "output_type": "stream",
     "text": [
      "This program checks if the number is divisible by 2 and 3\n"
     ]
    },
    {
     "name": "stdin",
     "output_type": "stream",
     "text": [
      "Enter an integer:  261\n"
     ]
    },
    {
     "name": "stdout",
     "output_type": "stream",
     "text": [
      "261 is not divisible by 2\n",
      "261 is not divisible by 3\n"
     ]
    }
   ],
   "source": [
    "print(\"This program checks divisibility rule for 2 and 3\")\n",
    "num = int(input(\"Enter an integer: \"))\n",
    "if ((num % 2)==0):\n",
    "    print(str(num) + \" is divisible by 2\")\n",
    "else:\n",
    "    print(str(num) + \" is not divisible by 2\")\n",
    "sum = 0\n",
    "check = num\n",
    "if (check>0):\n",
    "    dig = check % 10\n",
    "    check = dig\n",
    "    sum += dig\n",
    "if ((sum % 3)==0):\n",
    "    print(str(num) + \" is divisible by 3\")\n",
    "else:\n",
    "    print(str(num) + \" is not divisible by 3\")"
   ]
  },
  {
   "cell_type": "markdown",
   "id": "0bc294d2-574a-49f0-9e90-a4c9be100eca",
   "metadata": {},
   "source": [
    "### Problem 31"
   ]
  },
  {
   "cell_type": "markdown",
   "id": "3904dbd0-c9ac-4308-89b8-265266af38ea",
   "metadata": {},
   "source": [
    "Write a program to get student mark. If >=95 A+, >=80 A, >=70 B, >=60 C, <60 Fail"
   ]
  },
  {
   "cell_type": "code",
   "execution_count": 45,
   "id": "df8cfef6-c34b-418b-9604-4854ae196810",
   "metadata": {},
   "outputs": [
    {
     "name": "stdout",
     "output_type": "stream",
     "text": [
      "This program gets user input for student marks and assigns relevant grade\n"
     ]
    },
    {
     "name": "stdin",
     "output_type": "stream",
     "text": [
      "Enter the student marks:  98\n"
     ]
    },
    {
     "name": "stdout",
     "output_type": "stream",
     "text": [
      "Result: A+\n"
     ]
    }
   ],
   "source": [
    "print(\"This program gets user input for student marks and assigns relevant grade\")\n",
    "marks = float(input(\"Enter the student marks: \"))\n",
    "if marks>=95:\n",
    "    print(\"Result: A+\")\n",
    "elif marks>=80:\n",
    "    print(\"Result: A\")\n",
    "elif marks>=70:\n",
    "    print(\"Result: B\")\n",
    "elif marks>=60:\n",
    "    print(\"Result: C\")\n",
    "elif marks<60:\n",
    "    print(\"Result: Failed\")\n",
    "else:\n",
    "    print(\"Invalid entry, try again!\")"
   ]
  },
  {
   "cell_type": "markdown",
   "id": "fc76bd50-3493-4bc3-b6bd-60e8f02ca0b6",
   "metadata": {},
   "source": [
    "Assignment"
   ]
  },
  {
   "cell_type": "raw",
   "id": "8e31d276-6b7c-4e8f-a220-47c08fee6f13",
   "metadata": {},
   "source": [
    "Write a program to get a scale from employer and display salary"
   ]
  },
  {
   "cell_type": "code",
   "execution_count": 47,
   "id": "7206f99a-58c4-44af-a3c6-35f65950fe75",
   "metadata": {},
   "outputs": [
    {
     "name": "stdout",
     "output_type": "stream",
     "text": [
      "This is a program to get a scale from employer and display salary\n"
     ]
    },
    {
     "name": "stdin",
     "output_type": "stream",
     "text": [
      "Choose the scale from this list - 9, 12, 15, 18, 20:  20\n"
     ]
    },
    {
     "name": "stdout",
     "output_type": "stream",
     "text": [
      "Salary: 70000\n"
     ]
    }
   ],
   "source": [
    "print(\"This is a program to get a scale from employer and display salary\")\n",
    "scale = int(input(\"Choose the scale from this list - 9, 12, 15, 18, 20: \"))\n",
    "if scale==9:\n",
    "    print(\"Salary: 10000\")\n",
    "elif scale==12:\n",
    "    print(\"Salary: 20000\")\n",
    "elif scale==15:\n",
    "    print(\"Salary: 40000\")\n",
    "elif scale==18:\n",
    "    print(\"Salary: 50000\")\n",
    "elif scale==20:\n",
    "    print(\"Salary: 70000\")\n",
    "else:\n",
    "    print(\"Invalid entry\")"
   ]
  },
  {
   "cell_type": "markdown",
   "id": "18471039-1c2a-4a96-9bd0-c1cebcc90bf0",
   "metadata": {},
   "source": [
    "### Problem 32"
   ]
  },
  {
   "cell_type": "markdown",
   "id": "5f7606c3-5206-4fb0-8020-218beb514122",
   "metadata": {},
   "source": [
    "Write a program to get two numbers from user, pass to function and find max and min"
   ]
  },
  {
   "cell_type": "code",
   "execution_count": 52,
   "id": "52352833-fc99-4c3e-8c6a-18d5b0a9465f",
   "metadata": {},
   "outputs": [
    {
     "name": "stdout",
     "output_type": "stream",
     "text": [
      "This program gets two number, uses a function to find the min and max\n"
     ]
    },
    {
     "name": "stdin",
     "output_type": "stream",
     "text": [
      "Enter first number:  25.485\n",
      "Enter second number:  25.481\n"
     ]
    },
    {
     "name": "stdout",
     "output_type": "stream",
     "text": [
      "Max: 25.485\n",
      "Min: 25.481\n"
     ]
    }
   ],
   "source": [
    "print(\"This program gets two number, uses a function to find the min and max\")\n",
    "           \n",
    "def my_check(x, y):\n",
    "    my_max = max(x,y)\n",
    "    my_min = min(x,y)\n",
    "    print(\"Max: \" + str(my_max) +\"\\nMin: \" + str(my_min))\n",
    "\n",
    "num1 = float(input(\"Enter first number: \"))\n",
    "num2 = float(input(\"Enter second number: \"))\n",
    "my_check(num1, num2)"
   ]
  },
  {
   "cell_type": "markdown",
   "id": "baef38f8-689c-4c1d-b014-ebbea03fbfd8",
   "metadata": {},
   "source": [
    "### Problem 33"
   ]
  },
  {
   "cell_type": "markdown",
   "id": "a8bfad33-758b-4741-ab85-2b1ff69fbc2a",
   "metadata": {},
   "source": [
    "Write a program to find the count of occurence of each element in a list"
   ]
  },
  {
   "cell_type": "code",
   "execution_count": 64,
   "id": "2b237dc8-5938-44c5-9ec0-546b0edc262c",
   "metadata": {},
   "outputs": [
    {
     "ename": "SyntaxError",
     "evalue": "EOL while scanning string literal (Temp/ipykernel_41852/3406319745.py, line 4)",
     "output_type": "error",
     "traceback": [
      "\u001b[1;36m  File \u001b[1;32m\"C:\\Users\\gmula\\AppData\\Local\\Temp/ipykernel_41852/3406319745.py\"\u001b[1;36m, line \u001b[1;32m4\u001b[0m\n\u001b[1;33m    print(\"Count of \" +str(i) + \": + str(my_list.count(i)))\u001b[0m\n\u001b[1;37m                                                           ^\u001b[0m\n\u001b[1;31mSyntaxError\u001b[0m\u001b[1;31m:\u001b[0m EOL while scanning string literal\n"
     ]
    }
   ],
   "source": [
    "print(\"This program counts the occurence of each element in the list\")\n",
    "def check(my_list):\n",
    "    for i in my_list:\n",
    "        print(\"Count of \" +str(i) + \": + str(my_list.count(i)))\n",
    "\n",
    "new_list = []\n",
    "count = int(input(\"Enter the count of elements in your list: \"))\n",
    "for i in range(count):\n",
    "    print(\"Enter list element \" + str(i+1) +\": \")\n",
    "    n = input()\n",
    "    new_list.append(n)\n",
    "print(\"Your list: \" + str(new_list))\n",
    "check(new_list)\n",
    "\n"
   ]
  },
  {
   "cell_type": "code",
   "execution_count": null,
   "id": "ab158c98-b6b7-4efd-9423-208077e383fa",
   "metadata": {},
   "outputs": [],
   "source": []
  },
  {
   "cell_type": "code",
   "execution_count": null,
   "id": "d8dde3ce-f2eb-48e0-8ed1-ed5a4c71d525",
   "metadata": {},
   "outputs": [],
   "source": []
  },
  {
   "cell_type": "code",
   "execution_count": null,
   "id": "c8fc5a6d-acef-45c2-8ce2-7659ace3c5ea",
   "metadata": {},
   "outputs": [],
   "source": []
  },
  {
   "cell_type": "code",
   "execution_count": null,
   "id": "ce499d24-981a-46a5-862e-bfd3ba551f6b",
   "metadata": {},
   "outputs": [],
   "source": []
  },
  {
   "cell_type": "code",
   "execution_count": null,
   "id": "c8a98f31-197f-4150-88c4-809dc59a3c0e",
   "metadata": {},
   "outputs": [],
   "source": []
  },
  {
   "cell_type": "code",
   "execution_count": null,
   "id": "77b2c7d0-cdd8-4473-a0a1-0082b288ed91",
   "metadata": {},
   "outputs": [],
   "source": []
  },
  {
   "cell_type": "code",
   "execution_count": null,
   "id": "c707a599-39b9-42e6-9707-6b83a2812f7a",
   "metadata": {},
   "outputs": [],
   "source": []
  },
  {
   "cell_type": "code",
   "execution_count": null,
   "id": "d5cae16b-1564-449e-822b-7dc5e5f8a085",
   "metadata": {},
   "outputs": [],
   "source": []
  },
  {
   "cell_type": "code",
   "execution_count": null,
   "id": "225cf303-6708-4b62-bc61-6aa2a6a47391",
   "metadata": {},
   "outputs": [],
   "source": []
  },
  {
   "cell_type": "code",
   "execution_count": null,
   "id": "72c3139a-de45-4537-8550-e8565ab97964",
   "metadata": {},
   "outputs": [],
   "source": []
  },
  {
   "cell_type": "code",
   "execution_count": null,
   "id": "90f48c4b-b12d-47ea-b986-06956a3ac90a",
   "metadata": {},
   "outputs": [],
   "source": []
  },
  {
   "cell_type": "code",
   "execution_count": null,
   "id": "c82ac072-e8f7-4f31-a0b0-104bacc3f1c4",
   "metadata": {},
   "outputs": [],
   "source": []
  },
  {
   "cell_type": "code",
   "execution_count": null,
   "id": "6f097239-b73e-46cd-8809-2b3ae8ebbf38",
   "metadata": {},
   "outputs": [],
   "source": []
  },
  {
   "cell_type": "code",
   "execution_count": null,
   "id": "981ffc9c-8c07-46b3-b31a-49c3c8065f99",
   "metadata": {},
   "outputs": [],
   "source": []
  },
  {
   "cell_type": "code",
   "execution_count": null,
   "id": "f89fd770-3abc-4afa-bc94-ffce9bd9a2b0",
   "metadata": {},
   "outputs": [],
   "source": []
  },
  {
   "cell_type": "code",
   "execution_count": null,
   "id": "42752aed-a6e7-42cf-9620-69780ab50e40",
   "metadata": {},
   "outputs": [],
   "source": []
  },
  {
   "cell_type": "code",
   "execution_count": null,
   "id": "ce78f049-f62b-4b50-93bc-e0bd828b8acd",
   "metadata": {},
   "outputs": [],
   "source": []
  },
  {
   "cell_type": "code",
   "execution_count": null,
   "id": "bc343477-2e3c-4ca0-9279-473b3791b717",
   "metadata": {},
   "outputs": [],
   "source": []
  },
  {
   "cell_type": "code",
   "execution_count": null,
   "id": "ecd7bb4f-6a5d-4539-89cf-77ce9e34321f",
   "metadata": {},
   "outputs": [],
   "source": []
  },
  {
   "cell_type": "code",
   "execution_count": null,
   "id": "e2f721c1-3a5b-4bd2-8eaf-554d24ce7bba",
   "metadata": {},
   "outputs": [],
   "source": []
  },
  {
   "cell_type": "code",
   "execution_count": null,
   "id": "7b2ca3c6-2a23-4b66-9756-662b826fb143",
   "metadata": {},
   "outputs": [],
   "source": []
  },
  {
   "cell_type": "code",
   "execution_count": null,
   "id": "fadb1734-9f8f-40d5-9052-51c76a7b4dc7",
   "metadata": {},
   "outputs": [],
   "source": []
  },
  {
   "cell_type": "code",
   "execution_count": null,
   "id": "9bccbb6e-a21c-4c67-beea-eb5da9b1b767",
   "metadata": {},
   "outputs": [],
   "source": []
  },
  {
   "cell_type": "code",
   "execution_count": null,
   "id": "cd9aaf0f-7dd8-428c-81d1-93ef254e20b0",
   "metadata": {},
   "outputs": [],
   "source": []
  },
  {
   "cell_type": "code",
   "execution_count": null,
   "id": "df20dcc9-952e-4db5-b4cd-0a06fc2f4109",
   "metadata": {},
   "outputs": [],
   "source": []
  },
  {
   "cell_type": "code",
   "execution_count": null,
   "id": "da599b37-007f-4cd0-97e4-4e435a2f7be3",
   "metadata": {},
   "outputs": [],
   "source": []
  },
  {
   "cell_type": "code",
   "execution_count": null,
   "id": "8899cfa5-6b84-4ad6-afcc-cccb9a9b3702",
   "metadata": {},
   "outputs": [],
   "source": []
  }
 ],
 "metadata": {
  "kernelspec": {
   "display_name": "Python 3 (ipykernel)",
   "language": "python",
   "name": "python3"
  },
  "language_info": {
   "codemirror_mode": {
    "name": "ipython",
    "version": 3
   },
   "file_extension": ".py",
   "mimetype": "text/x-python",
   "name": "python",
   "nbconvert_exporter": "python",
   "pygments_lexer": "ipython3",
   "version": "3.9.7"
  }
 },
 "nbformat": 4,
 "nbformat_minor": 5
}
